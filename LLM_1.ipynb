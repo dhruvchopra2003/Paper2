{
  "nbformat": 4,
  "nbformat_minor": 0,
  "metadata": {
    "colab": {
      "provenance": [],
      "gpuType": "T4",
      "authorship_tag": "ABX9TyOBwaH2lrvZ4XIuphRzw237",
      "include_colab_link": true
    },
    "kernelspec": {
      "name": "python3",
      "display_name": "Python 3"
    },
    "language_info": {
      "name": "python"
    },
    "accelerator": "GPU"
  },
  "cells": [
    {
      "cell_type": "markdown",
      "metadata": {
        "id": "view-in-github",
        "colab_type": "text"
      },
      "source": [
        "<a href=\"https://colab.research.google.com/github/dhruvchopra2003/Paper2/blob/main/LLM_1.ipynb\" target=\"_parent\"><img src=\"https://colab.research.google.com/assets/colab-badge.svg\" alt=\"Open In Colab\"/></a>"
      ]
    },
    {
      "cell_type": "code",
      "execution_count": 1,
      "metadata": {
        "colab": {
          "base_uri": "https://localhost:8080/"
        },
        "id": "IvRdvxvvq7Vt",
        "outputId": "40a3f95e-f414-4f6b-fb90-6ce8830b2c9e"
      },
      "outputs": [
        {
          "output_type": "stream",
          "name": "stdout",
          "text": [
            "--2024-09-02 05:10:57--  https://raw.githubusercontent.com/karpathy/char-rnn/master/data/tinyshakespeare/input.txt\n",
            "Resolving raw.githubusercontent.com (raw.githubusercontent.com)... 185.199.108.133, 185.199.109.133, 185.199.110.133, ...\n",
            "Connecting to raw.githubusercontent.com (raw.githubusercontent.com)|185.199.108.133|:443... connected.\n",
            "HTTP request sent, awaiting response... 200 OK\n",
            "Length: 1115394 (1.1M) [text/plain]\n",
            "Saving to: ‘input.txt’\n",
            "\n",
            "input.txt           100%[===================>]   1.06M  --.-KB/s    in 0.04s   \n",
            "\n",
            "2024-09-02 05:10:57 (27.0 MB/s) - ‘input.txt’ saved [1115394/1115394]\n",
            "\n"
          ]
        }
      ],
      "source": [
        "!wget https://raw.githubusercontent.com/karpathy/char-rnn/master/data/tinyshakespeare/input.txt"
      ]
    },
    {
      "cell_type": "code",
      "source": [
        "import torch\n",
        "import torch.nn as nn\n",
        "from torch.nn import functional as F\n",
        "\n",
        "# Hyperparameters\n",
        "batch_size = 16 # how many independent sequences will we process in\n",
        "block_size = 32 # maximum context length for\n",
        "max_iters = 5000\n",
        "eval_interval = 100\n",
        "learning_rate = 1e-3\n",
        "device = 'cuda' if torch.cuda.is_available() else 'cpu'\n",
        "eval_iters = 200\n",
        "\n",
        "#_________________\n",
        "\n",
        "torch.manual_seed(1337)\n",
        "with open('input.txt', 'r', encoding='utf-8') as f:\n",
        "    text = f.read()\n",
        "\n",
        "# Here we are trying to create a character level language\n",
        "chars = sorted(list(set(text)))\n",
        "vocab_size = len(chars)\n",
        "\n",
        "# Create mapping from characters to integers\n",
        "stoi = {ch: i for i, ch in enumerate(chars)}\n",
        "itos = {i: ch for i, ch in enumerate(chars)}\n",
        "encode = lambda s: [stoi[c] for c in s]\n",
        "\n",
        "decode = lambda l: ''.join([itos[i] for i in l])\n",
        "\n",
        "# train test split\n",
        "data = torch.tensor(encode(text), dtype=torch.long)\n",
        "n = int(0.9 * len(data))\n",
        "train_data = data[:n]\n",
        "val_data = data[n:]\n",
        "\n",
        "# Data loading\n",
        "def get_batch(split):\n",
        "  # Generate small batches of data of inputs x and y\n",
        "  data = train_data if split == 'train' else val_data\n",
        "  ix = torch.randint(len(data) - block_size, (batch_size,))\n",
        "  x = torch.stack([data[i:i+block_size] for i in ix])\n",
        "  y = torch.stack([data[i+1:i+block_size+1] for i in ix])\n",
        "\n",
        "  # This is being done to push the tensors onto the GPU to accelerate training\n",
        "  x, y = x.to(device), y.to(device)\n",
        "\n",
        "  return x, y\n",
        "\n",
        "\n",
        "#This is basically to optimize pytorch. It tells that whatever intermediate\n",
        "# variables are created, don't store them, coz we're never gonna call backwards\n",
        "@torch.no_grad()\n",
        "def estimate_loss():\n",
        "  out = {}\n",
        "  model.eval()\n",
        "  for split in ['train', 'val']:\n",
        "    losses = torch.zeros(eval_iters)\n",
        "    for k in range(eval_iters):\n",
        "      X, Y = get_batch(split)\n",
        "      logits, loss = model(X, Y)\n",
        "      losses[k] = loss.item()\n",
        "    out[split] = losses.mean()\n",
        "  model.train()\n",
        "  return out\n",
        "\n",
        "# The bigram language model\n",
        "class BigramLanguageModel(nn.Module):\n",
        "  def __init__(self, vocab_size):\n",
        "    super().__init__()\n",
        "    # each token directly reads from the logits for the next token from the lookup table\n",
        "    self.token_embedding_table = nn.Embedding(vocab_size, vocab_size)\n",
        "\n",
        "  def forward(self, idx, targets=None):\n",
        "    # idx and targets are both (B, T) tensor of integers\n",
        "    logits = self.token_embedding_table(idx) # (B, T, C)\n",
        "\n",
        "    if targets is None:\n",
        "      loss = None\n",
        "    else:\n",
        "      B, T, C = logits.shape\n",
        "      logits = logits.view(B*T, C)\n",
        "      targets = targets.view(B*T)\n",
        "      loss = F.cross_entropy(logits, targets)\n",
        "    return logits, loss\n",
        "\n",
        "  def generate(self, idx, max_new_tokens):\n",
        "    # idx is (B, T) array of indices in the current\n",
        "    for _ in range(max_new_tokens):\n",
        "      # get the prediction\n",
        "      logits, loss = self(idx)\n",
        "      # Focus only on the last time step\n",
        "      logits = logits[:, -1, :] # becomes (B, C)\n",
        "      # Apply softmax to get probabilities\n",
        "      probs = F.softmax(logits, dim=-1) # (B, C)\n",
        "      # sample from the distribution\n",
        "      idx_next = torch.multinomial(probs, num_samples=1) # (B, 1)\n",
        "      # Applied sampled index to the running sequence\n",
        "      idx = torch.cat((idx, idx_next), dim=1) # (B, T+1)\n",
        "    return idx\n",
        "\n",
        "model = BigramLanguageModel(vocab_size)\n",
        "m = model.to(device)\n",
        "\n",
        "# Create pytorch optimizer\n",
        "optimizer = torch.optim.AdamW(model.parameters(), lr=learning_rate)\n",
        "\n",
        "for iter in range(max_iters):\n",
        "  # every once in a while evaluate the loss on train and val sets\n",
        "  if iter % eval_interval == 0:\n",
        "    losses = estimate_loss()\n",
        "    print(f\"step {iter}: train loss {losses['train']:.4f}, val loss {losses['val']:.4f}\")\n",
        "  xb, yb = get_batch('train')\n",
        "  # evaluate the loss\n",
        "  logits, loss = model(xb, yb)\n",
        "  optimizer.zero_grad(set_to_none=True)\n",
        "  loss.backward()\n",
        "  optimizer.step()\n",
        "\n",
        "# Generate from the model\n",
        "context = torch.zeros((1, 1), dtype=torch.long, device=device)\n",
        "print(decode(m.generate(context, max_new_tokens=1000)[0].tolist()))\n",
        "\n"
      ],
      "metadata": {
        "colab": {
          "base_uri": "https://localhost:8080/"
        },
        "id": "lKreGNe3Ifgh",
        "outputId": "54e8f91f-0a6d-4176-e7d6-dbf1e08c19ee"
      },
      "execution_count": 2,
      "outputs": [
        {
          "output_type": "stream",
          "name": "stdout",
          "text": [
            "step 0: train loss 4.7260, val loss 4.7259\n",
            "step 100: train loss 4.5986, val loss 4.5953\n",
            "step 200: train loss 4.4763, val loss 4.4755\n",
            "step 300: train loss 4.3572, val loss 4.3574\n",
            "step 400: train loss 4.2446, val loss 4.2459\n",
            "step 500: train loss 4.1332, val loss 4.1303\n",
            "step 600: train loss 4.0279, val loss 4.0317\n",
            "step 700: train loss 3.9268, val loss 3.9321\n",
            "step 800: train loss 3.8344, val loss 3.8387\n",
            "step 900: train loss 3.7425, val loss 3.7476\n",
            "step 1000: train loss 3.6578, val loss 3.6587\n",
            "step 1100: train loss 3.5823, val loss 3.5821\n",
            "step 1200: train loss 3.5049, val loss 3.5055\n",
            "step 1300: train loss 3.4314, val loss 3.4358\n",
            "step 1400: train loss 3.3648, val loss 3.3694\n",
            "step 1500: train loss 3.2985, val loss 3.3034\n",
            "step 1600: train loss 3.2409, val loss 3.2487\n",
            "step 1700: train loss 3.1900, val loss 3.1855\n",
            "step 1800: train loss 3.1357, val loss 3.1408\n",
            "step 1900: train loss 3.0850, val loss 3.0887\n",
            "step 2000: train loss 3.0422, val loss 3.0514\n",
            "step 2100: train loss 3.0007, val loss 3.0041\n",
            "step 2200: train loss 2.9589, val loss 2.9662\n",
            "step 2300: train loss 2.9247, val loss 2.9305\n",
            "step 2400: train loss 2.8890, val loss 2.8972\n",
            "step 2500: train loss 2.8583, val loss 2.8649\n",
            "step 2600: train loss 2.8261, val loss 2.8387\n",
            "step 2700: train loss 2.8059, val loss 2.8068\n",
            "step 2800: train loss 2.7795, val loss 2.7798\n",
            "step 2900: train loss 2.7514, val loss 2.7597\n",
            "step 3000: train loss 2.7310, val loss 2.7361\n",
            "step 3100: train loss 2.7093, val loss 2.7199\n",
            "step 3200: train loss 2.6949, val loss 2.7014\n",
            "step 3300: train loss 2.6800, val loss 2.6906\n",
            "step 3400: train loss 2.6659, val loss 2.6720\n",
            "step 3500: train loss 2.6542, val loss 2.6589\n",
            "step 3600: train loss 2.6422, val loss 2.6397\n",
            "step 3700: train loss 2.6254, val loss 2.6312\n",
            "step 3800: train loss 2.6125, val loss 2.6232\n",
            "step 3900: train loss 2.5985, val loss 2.6159\n",
            "step 4000: train loss 2.5917, val loss 2.5982\n",
            "step 4100: train loss 2.5802, val loss 2.5929\n",
            "step 4200: train loss 2.5774, val loss 2.5835\n",
            "step 4300: train loss 2.5641, val loss 2.5792\n",
            "step 4400: train loss 2.5629, val loss 2.5713\n",
            "step 4500: train loss 2.5629, val loss 2.5665\n",
            "step 4600: train loss 2.5494, val loss 2.5590\n",
            "step 4700: train loss 2.5447, val loss 2.5575\n",
            "step 4800: train loss 2.5393, val loss 2.5499\n",
            "step 4900: train loss 2.5314, val loss 2.5436\n",
            "\n",
            "\n",
            "\n",
            "CExfikRO:\n",
            "wcowindake la, btKEY: sen bobe d e.\n",
            "S:gO:33SA:\n",
            "\n",
            "\n",
            "LTanss:\n",
            "WanthaiNu qur, vet?\n",
            "F dXENDoate awice my.\n",
            "\n",
            "Thstacomzoroup\n",
            "Yow&$FMOUf isth ble mil;KI ll, ath iree sengmin lat Heriliov ts, anend l nghir.\n",
            "Swanousel lind me l.\n",
            "MAull ce hiry:\n",
            "Supr aisspllw y.\n",
            "Jurindu n Boopetelaves\n",
            "MP:\n",
            "\n",
            "Pl, d motSSkllo W-S:\n",
            "FourtCeiib3s the m dourivETENGShire s p-LOK:\n",
            "\n",
            "NxTre\n",
            "\n",
            "ALONomnterupt f s ar iris! m:\n",
            "\n",
            "Thiny aleronth,\n",
            "MadPre?\n",
            "\n",
            "WISo myr f-NLIE!\n",
            "KENob&y, wardsal thesE: fond uin cNI ayaraney Iry ts I&fr t c!\n",
            "MykenEE:\n",
            "PAke mary.\n",
            "Yof 'WWh wne?m sora anghse.-e?nomangqqurten.\n",
            "Wand tho-me cin s th llugivome.\n",
            "I muco ffspy tssthecas l.\n",
            "TAnEias wethal wave.\n",
            "se ed PTABene oveveaimoCas!\n",
            "\n",
            "\n",
            "\n",
            "Cos cok hedin tie s ingo he te feRUCatLI:\n",
            "Wh$g Clo gscP!-nisthou ldu It n,Forxlone.\n",
            "\n",
            "An!\n",
            "HAnkes aghercoERWAws m k s withoumas Fond ths wllo INour id, mFosedInsurd?\n",
            "TIOMy hithin&XnGenond CDWity\n",
            "K:\n",
            "BIUSHou tiunorthornofen e sutan Ciporthare whanothavitthers,l pESBllollke, on s h O, t pan, ce wat d&Live Wout ir f au;\n",
            "yonkzeginee\n"
          ]
        }
      ]
    },
    {
      "cell_type": "markdown",
      "source": [
        "Logic behind self attention"
      ],
      "metadata": {
        "id": "dfnA8ST8JMpz"
      }
    },
    {
      "cell_type": "code",
      "source": [
        "# Consider the following example\n",
        "torch.manual_seed(1337)\n",
        "B, T, C = 4, 8, 2 # batch, time, channels\n",
        "x = torch.randn(B, T, C)\n",
        "x.shape"
      ],
      "metadata": {
        "id": "ssBG2aHYMmAL",
        "colab": {
          "base_uri": "https://localhost:8080/"
        },
        "outputId": "6807fbc4-4d1c-4150-8c7e-c7b961b820eb"
      },
      "execution_count": 4,
      "outputs": [
        {
          "output_type": "execute_result",
          "data": {
            "text/plain": [
              "torch.Size([4, 8, 2])"
            ]
          },
          "metadata": {},
          "execution_count": 4
        }
      ]
    },
    {
      "cell_type": "code",
      "source": [
        "# We want x[b, t] = mean_{i<=t} x[b, i]\n",
        "xbow = torch.zeros((B, T, C)) #xbow stands for bag of words\n",
        "for b in range(B):\n",
        "  for t in range(T):\n",
        "    xprev = x[b, :t+1] # (t, C)\n",
        "    xbow[b, t] = torch.mean(xprev, 0)"
      ],
      "metadata": {
        "id": "FQqsCTSQJTx8"
      },
      "execution_count": 6,
      "outputs": []
    },
    {
      "cell_type": "code",
      "source": [
        "# The trick is to use matrix multiplication\n",
        "torch.manual_seed(42)\n",
        "a = torch.ones(3, 3)\n",
        "b = torch.randint(0, 10, (3, 2)).float()\n",
        "c = a @ b # Matrix multiplication\n",
        "print('a=')\n",
        "print(a)\n",
        "print('--')\n",
        "print('b=')\n",
        "print(b)\n",
        "print('--')\n",
        "print('c=')"
      ],
      "metadata": {
        "colab": {
          "base_uri": "https://localhost:8080/"
        },
        "id": "f9HPgYD3JcBk",
        "outputId": "93f04a31-354f-4590-f447-a645bbaf36bc"
      },
      "execution_count": 7,
      "outputs": [
        {
          "output_type": "stream",
          "name": "stdout",
          "text": [
            "a=\n",
            "tensor([[1., 1., 1.],\n",
            "        [1., 1., 1.],\n",
            "        [1., 1., 1.]])\n",
            "--\n",
            "b=\n",
            "tensor([[2., 7.],\n",
            "        [6., 4.],\n",
            "        [6., 5.]])\n",
            "--\n",
            "c=\n"
          ]
        }
      ]
    },
    {
      "cell_type": "code",
      "source": [
        "wei = torch.tril(torch.ones(T, T))\n",
        "wei = wei / wei.sum(1, keepdim=True)\n",
        "wei"
      ],
      "metadata": {
        "colab": {
          "base_uri": "https://localhost:8080/"
        },
        "id": "TessLakQJ93O",
        "outputId": "bde36eae-89d3-4c48-feac-6a5f4aefddc1"
      },
      "execution_count": 8,
      "outputs": [
        {
          "output_type": "execute_result",
          "data": {
            "text/plain": [
              "tensor([[1.0000, 0.0000, 0.0000, 0.0000, 0.0000, 0.0000, 0.0000, 0.0000],\n",
              "        [0.5000, 0.5000, 0.0000, 0.0000, 0.0000, 0.0000, 0.0000, 0.0000],\n",
              "        [0.3333, 0.3333, 0.3333, 0.0000, 0.0000, 0.0000, 0.0000, 0.0000],\n",
              "        [0.2500, 0.2500, 0.2500, 0.2500, 0.0000, 0.0000, 0.0000, 0.0000],\n",
              "        [0.2000, 0.2000, 0.2000, 0.2000, 0.2000, 0.0000, 0.0000, 0.0000],\n",
              "        [0.1667, 0.1667, 0.1667, 0.1667, 0.1667, 0.1667, 0.0000, 0.0000],\n",
              "        [0.1429, 0.1429, 0.1429, 0.1429, 0.1429, 0.1429, 0.1429, 0.0000],\n",
              "        [0.1250, 0.1250, 0.1250, 0.1250, 0.1250, 0.1250, 0.1250, 0.1250]])"
            ]
          },
          "metadata": {},
          "execution_count": 8
        }
      ]
    },
    {
      "cell_type": "code",
      "source": [
        "xbow2 = wei @ x # (B, T, T) @ (B, T, C) ----> (B, T, C)\n",
        "# Applies batch multiplication in all the batch elements in parallel\n",
        "torch.allclose(xbow, xbow2)"
      ],
      "metadata": {
        "id": "cGDVbn9hK3PY"
      },
      "execution_count": null,
      "outputs": []
    }
  ]
}