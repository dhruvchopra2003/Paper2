{
  "nbformat": 4,
  "nbformat_minor": 0,
  "metadata": {
    "colab": {
      "provenance": [],
      "gpuType": "T4",
      "authorship_tag": "ABX9TyNYetG6gnP/DAqn+tgmkz+s",
      "include_colab_link": true
    },
    "kernelspec": {
      "name": "python3",
      "display_name": "Python 3"
    },
    "language_info": {
      "name": "python"
    },
    "accelerator": "GPU"
  },
  "cells": [
    {
      "cell_type": "markdown",
      "metadata": {
        "id": "view-in-github",
        "colab_type": "text"
      },
      "source": [
        "<a href=\"https://colab.research.google.com/github/dhruvchopra2003/Paper2/blob/main/LLM_1.ipynb\" target=\"_parent\"><img src=\"https://colab.research.google.com/assets/colab-badge.svg\" alt=\"Open In Colab\"/></a>"
      ]
    },
    {
      "cell_type": "code",
      "execution_count": 1,
      "metadata": {
        "colab": {
          "base_uri": "https://localhost:8080/"
        },
        "id": "IvRdvxvvq7Vt",
        "outputId": "2a07c830-9397-4412-e375-db113bfb1cad"
      },
      "outputs": [
        {
          "output_type": "stream",
          "name": "stdout",
          "text": [
            "--2024-09-08 18:49:26--  https://raw.githubusercontent.com/karpathy/char-rnn/master/data/tinyshakespeare/input.txt\n",
            "Resolving raw.githubusercontent.com (raw.githubusercontent.com)... 185.199.108.133, 185.199.109.133, 185.199.110.133, ...\n",
            "Connecting to raw.githubusercontent.com (raw.githubusercontent.com)|185.199.108.133|:443... connected.\n",
            "HTTP request sent, awaiting response... 200 OK\n",
            "Length: 1115394 (1.1M) [text/plain]\n",
            "Saving to: ‘input.txt’\n",
            "\n",
            "\rinput.txt             0%[                    ]       0  --.-KB/s               \rinput.txt           100%[===================>]   1.06M  --.-KB/s    in 0.02s   \n",
            "\n",
            "2024-09-08 18:49:26 (46.6 MB/s) - ‘input.txt’ saved [1115394/1115394]\n",
            "\n"
          ]
        }
      ],
      "source": [
        "!wget https://raw.githubusercontent.com/karpathy/char-rnn/master/data/tinyshakespeare/input.txt"
      ]
    },
    {
      "cell_type": "code",
      "source": [
        "import torch\n",
        "import torch.nn as nn\n",
        "from torch.nn import functional as F\n",
        "\n",
        "# Hyperparameters\n",
        "batch_size = 16 # how many independent sequences will we process in\n",
        "block_size = 32 # maximum context length for\n",
        "max_iters = 5000\n",
        "eval_interval = 100\n",
        "learning_rate = 1e-3\n",
        "device = 'cuda' if torch.cuda.is_available() else 'cpu'\n",
        "eval_iters = 200\n",
        "\n",
        "#_________________\n",
        "\n",
        "torch.manual_seed(1337)\n",
        "with open('input.txt', 'r', encoding='utf-8') as f:\n",
        "    text = f.read()\n",
        "\n",
        "# Here we are trying to create a character level language\n",
        "chars = sorted(list(set(text)))\n",
        "vocab_size = len(chars)\n",
        "\n",
        "# Create mapping from characters to integers\n",
        "stoi = {ch: i for i, ch in enumerate(chars)}\n",
        "itos = {i: ch for i, ch in enumerate(chars)}\n",
        "encode = lambda s: [stoi[c] for c in s]\n",
        "\n",
        "decode = lambda l: ''.join([itos[i] for i in l])\n",
        "\n",
        "# train test split\n",
        "data = torch.tensor(encode(text), dtype=torch.long)\n",
        "n = int(0.9 * len(data))\n",
        "train_data = data[:n]\n",
        "val_data = data[n:]\n",
        "\n",
        "# Data loading\n",
        "def get_batch(split):\n",
        "  # Generate small batches of data of inputs x and y\n",
        "  data = train_data if split == 'train' else val_data\n",
        "  ix = torch.randint(len(data) - block_size, (batch_size,))\n",
        "  x = torch.stack([data[i:i+block_size] for i in ix])\n",
        "  y = torch.stack([data[i+1:i+block_size+1] for i in ix])\n",
        "\n",
        "  # This is being done to push the tensors onto the GPU to accelerate training\n",
        "  x, y = x.to(device), y.to(device)\n",
        "\n",
        "  return x, y\n",
        "\n",
        "\n",
        "#This is basically to optimize pytorch. It tells that whatever intermediate\n",
        "# variables are created, don't store them, coz we're never gonna call backwards\n",
        "@torch.no_grad()\n",
        "def estimate_loss():\n",
        "  out = {}\n",
        "  model.eval()\n",
        "  for split in ['train', 'val']:\n",
        "    losses = torch.zeros(eval_iters)\n",
        "    for k in range(eval_iters):\n",
        "      X, Y = get_batch(split)\n",
        "      logits, loss = model(X, Y)\n",
        "      losses[k] = loss.item()\n",
        "    out[split] = losses.mean()\n",
        "  model.train()\n",
        "  return out\n",
        "\n",
        "# The bigram language model\n",
        "class BigramLanguageModel(nn.Module):\n",
        "  def __init__(self, vocab_size):\n",
        "    super().__init__()\n",
        "    # each token directly reads from the logits for the next token from the lookup table\n",
        "    self.token_embedding_table = nn.Embedding(vocab_size, vocab_size)\n",
        "\n",
        "  def forward(self, idx, targets=None):\n",
        "    # idx and targets are both (B, T) tensor of integers\n",
        "    logits = self.token_embedding_table(idx) # (B, T, C)\n",
        "\n",
        "    if targets is None:\n",
        "      loss = None\n",
        "    else:\n",
        "      B, T, C = logits.shape\n",
        "      logits = logits.view(B*T, C)\n",
        "      targets = targets.view(B*T)\n",
        "      loss = F.cross_entropy(logits, targets)\n",
        "    return logits, loss\n",
        "\n",
        "  def generate(self, idx, max_new_tokens):\n",
        "    # idx is (B, T) array of indices in the current\n",
        "    for _ in range(max_new_tokens):\n",
        "      # get the prediction\n",
        "      logits, loss = self(idx)\n",
        "      # Focus only on the last time step\n",
        "      logits = logits[:, -1, :] # becomes (B, C)\n",
        "      # Apply softmax to get probabilities\n",
        "      probs = F.softmax(logits, dim=-1) # (B, C)\n",
        "      # sample from the distribution\n",
        "      idx_next = torch.multinomial(probs, num_samples=1) # (B, 1)\n",
        "      # Applied sampled index to the running sequence\n",
        "      idx = torch.cat((idx, idx_next), dim=1) # (B, T+1)\n",
        "    return idx\n",
        "\n",
        "model = BigramLanguageModel(vocab_size)\n",
        "m = model.to(device)\n",
        "\n",
        "# Create pytorch optimizer\n",
        "optimizer = torch.optim.AdamW(model.parameters(), lr=learning_rate)\n",
        "\n",
        "for iter in range(max_iters):\n",
        "  # every once in a while evaluate the loss on train and val sets\n",
        "  if iter % eval_interval == 0:\n",
        "    losses = estimate_loss()\n",
        "    print(f\"step {iter}: train loss {losses['train']:.4f}, val loss {losses['val']:.4f}\")\n",
        "  xb, yb = get_batch('train')\n",
        "  # evaluate the loss\n",
        "  logits, loss = model(xb, yb)\n",
        "  optimizer.zero_grad(set_to_none=True)\n",
        "  loss.backward()\n",
        "  optimizer.step()\n",
        "\n",
        "# Generate from the model\n",
        "context = torch.zeros((1, 1), dtype=torch.long, device=device)\n",
        "print(decode(m.generate(context, max_new_tokens=1000)[0].tolist()))\n",
        "\n"
      ],
      "metadata": {
        "colab": {
          "base_uri": "https://localhost:8080/"
        },
        "id": "lKreGNe3Ifgh",
        "outputId": "dc9fa768-4b25-47f0-aa27-a347438a968f"
      },
      "execution_count": 2,
      "outputs": [
        {
          "output_type": "stream",
          "name": "stdout",
          "text": [
            "step 0: train loss 4.7260, val loss 4.7259\n",
            "step 100: train loss 4.5986, val loss 4.5953\n",
            "step 200: train loss 4.4763, val loss 4.4755\n",
            "step 300: train loss 4.3572, val loss 4.3574\n",
            "step 400: train loss 4.2446, val loss 4.2459\n",
            "step 500: train loss 4.1332, val loss 4.1303\n",
            "step 600: train loss 4.0279, val loss 4.0317\n",
            "step 700: train loss 3.9268, val loss 3.9321\n",
            "step 800: train loss 3.8344, val loss 3.8387\n",
            "step 900: train loss 3.7425, val loss 3.7476\n",
            "step 1000: train loss 3.6578, val loss 3.6587\n",
            "step 1100: train loss 3.5823, val loss 3.5821\n",
            "step 1200: train loss 3.5049, val loss 3.5055\n",
            "step 1300: train loss 3.4314, val loss 3.4358\n",
            "step 1400: train loss 3.3648, val loss 3.3694\n",
            "step 1500: train loss 3.2985, val loss 3.3034\n",
            "step 1600: train loss 3.2409, val loss 3.2487\n",
            "step 1700: train loss 3.1900, val loss 3.1855\n",
            "step 1800: train loss 3.1357, val loss 3.1408\n",
            "step 1900: train loss 3.0850, val loss 3.0887\n",
            "step 2000: train loss 3.0422, val loss 3.0514\n",
            "step 2100: train loss 3.0007, val loss 3.0041\n",
            "step 2200: train loss 2.9589, val loss 2.9662\n",
            "step 2300: train loss 2.9247, val loss 2.9305\n",
            "step 2400: train loss 2.8890, val loss 2.8972\n",
            "step 2500: train loss 2.8583, val loss 2.8649\n",
            "step 2600: train loss 2.8261, val loss 2.8387\n",
            "step 2700: train loss 2.8059, val loss 2.8068\n",
            "step 2800: train loss 2.7795, val loss 2.7798\n",
            "step 2900: train loss 2.7514, val loss 2.7597\n",
            "step 3000: train loss 2.7310, val loss 2.7361\n",
            "step 3100: train loss 2.7093, val loss 2.7199\n",
            "step 3200: train loss 2.6949, val loss 2.7014\n",
            "step 3300: train loss 2.6800, val loss 2.6906\n",
            "step 3400: train loss 2.6659, val loss 2.6720\n",
            "step 3500: train loss 2.6542, val loss 2.6589\n",
            "step 3600: train loss 2.6422, val loss 2.6397\n",
            "step 3700: train loss 2.6254, val loss 2.6312\n",
            "step 3800: train loss 2.6125, val loss 2.6232\n",
            "step 3900: train loss 2.5985, val loss 2.6159\n",
            "step 4000: train loss 2.5917, val loss 2.5982\n",
            "step 4100: train loss 2.5802, val loss 2.5929\n",
            "step 4200: train loss 2.5774, val loss 2.5835\n",
            "step 4300: train loss 2.5641, val loss 2.5792\n",
            "step 4400: train loss 2.5629, val loss 2.5713\n",
            "step 4500: train loss 2.5629, val loss 2.5665\n",
            "step 4600: train loss 2.5494, val loss 2.5590\n",
            "step 4700: train loss 2.5447, val loss 2.5575\n",
            "step 4800: train loss 2.5393, val loss 2.5499\n",
            "step 4900: train loss 2.5314, val loss 2.5436\n",
            "\n",
            "\n",
            "\n",
            "CExfikRO:\n",
            "wcowindake la, btKEY: sen bobe d e.\n",
            "S:gO:33SA:\n",
            "\n",
            "\n",
            "LTanss:\n",
            "WanthaiNu qur, vet?\n",
            "F dXENDoate awice my.\n",
            "\n",
            "Thstacomzoroup\n",
            "Yow&$FMOUf isth ble mil;KI ll, ath iree sengmin lat Heriliov ts, anend l nghir.\n",
            "Swanousel lind me l.\n",
            "MAull ce hiry:\n",
            "Supr aisspllw y.\n",
            "Jurindu n Boopetelaves\n",
            "MP:\n",
            "\n",
            "Pl, d motSSkllo W-S:\n",
            "FourtCeiib3s the m dourivETENGShire s p-LOK:\n",
            "\n",
            "NxTre\n",
            "\n",
            "ALONomnterupt f s ar iris! m:\n",
            "\n",
            "Thiny aleronth,\n",
            "MadPre?\n",
            "\n",
            "WISo myr f-NLIE!\n",
            "KENob&y, wardsal thesE: fond uin cNI ayaraney Iry ts I&fr t c!\n",
            "MykenEE:\n",
            "PAke mary.\n",
            "Yof 'WWh wne?m sora anghse.-e?nomangqqurten.\n",
            "Wand tho-me cin s th llugivome.\n",
            "I muco ffspy tssthecas l.\n",
            "TAnEias wethal wave.\n",
            "se ed PTABene oveveaimoCas!\n",
            "\n",
            "\n",
            "\n",
            "Cos cok hedin tie s ingo he te feRUCatLI:\n",
            "Wh$g Clo gscP!-nisthou ldu It n,Forxlone.\n",
            "\n",
            "An!\n",
            "HAnkes aghercoERWAws m k s withoumas Fond ths wllo INour id, mFosedInsurd?\n",
            "TIOMy hithin&XnGenond CDWity\n",
            "K:\n",
            "BIUSHou tiunorthornofen e sutan Ciporthare whanothavitthers,l pESBllollke, on s h O, t pan, ce wat d&Live Wout ir f au;\n",
            "yonkzeginee\n"
          ]
        }
      ]
    },
    {
      "cell_type": "markdown",
      "source": [
        "## Mathematical Logic behind self attention"
      ],
      "metadata": {
        "id": "dfnA8ST8JMpz"
      }
    },
    {
      "cell_type": "code",
      "source": [
        "torch.manual_seed(1337)\n",
        "B,T,C = 4,8,2 # batch, time, channels\n",
        "x = torch.randn(B,T,C)\n",
        "x.shape"
      ],
      "metadata": {
        "colab": {
          "base_uri": "https://localhost:8080/"
        },
        "id": "DtqM7sDFMVtA",
        "outputId": "21ce35a0-a4ba-4f7b-f641-04ffc0cd9f02"
      },
      "execution_count": 10,
      "outputs": [
        {
          "output_type": "execute_result",
          "data": {
            "text/plain": [
              "torch.Size([4, 8, 2])"
            ]
          },
          "metadata": {},
          "execution_count": 10
        }
      ]
    },
    {
      "cell_type": "markdown",
      "source": [
        "Now we need the tokens to interact with each other. We basically want each token to have some representation in terms of it's preceeding tokens. Simplest way is to take the average of the channels of each predecessor."
      ],
      "metadata": {
        "id": "3iN_9_z7_YzK"
      }
    },
    {
      "cell_type": "code",
      "source": [
        "# We want x[b,t] = mean_{i<=t} x[b,i]\n",
        "xbow = torch.zeros((B,T,C)) # bow aka: bag of words -> used for averaging a set of words\n",
        "for b in range(B):\n",
        "    for t in range(T):\n",
        "        xprev = x[b,:t+1] # (t,C)\n",
        "        xbow[b,t] = torch.mean(xprev, 0)\n"
      ],
      "metadata": {
        "id": "FQqsCTSQJTx8"
      },
      "execution_count": 15,
      "outputs": []
    },
    {
      "cell_type": "code",
      "source": [
        "xbow"
      ],
      "metadata": {
        "colab": {
          "base_uri": "https://localhost:8080/"
        },
        "id": "ZVpqMP1mK4O-",
        "outputId": "4cc48404-bc18-40c8-f705-ae99078d409a"
      },
      "execution_count": 48,
      "outputs": [
        {
          "output_type": "execute_result",
          "data": {
            "text/plain": [
              "tensor([[[ 0.1808, -0.0700],\n",
              "         [-0.0894, -0.4926],\n",
              "         [ 0.1490, -0.3199],\n",
              "         [ 0.3504, -0.2238],\n",
              "         [ 0.3525,  0.0545],\n",
              "         [ 0.0688, -0.0396],\n",
              "         [ 0.0927, -0.0682],\n",
              "         [-0.0341,  0.1332]],\n",
              "\n",
              "        [[ 1.3488, -0.1396],\n",
              "         [ 0.8173,  0.4127],\n",
              "         [-0.1342,  0.4395],\n",
              "         [ 0.2711,  0.4774],\n",
              "         [ 0.2421,  0.0694],\n",
              "         [ 0.0084,  0.0020],\n",
              "         [ 0.0712, -0.1128],\n",
              "         [ 0.2527,  0.2149]],\n",
              "\n",
              "        [[-0.6631, -0.2513],\n",
              "         [ 0.1735, -0.0649],\n",
              "         [ 0.1685,  0.3348],\n",
              "         [-0.1621,  0.1765],\n",
              "         [-0.2312, -0.0436],\n",
              "         [-0.1015, -0.2855],\n",
              "         [-0.2593, -0.1630],\n",
              "         [-0.3015, -0.2293]],\n",
              "\n",
              "        [[ 1.6455, -0.8030],\n",
              "         [ 1.4985, -0.5395],\n",
              "         [ 0.4954,  0.3420],\n",
              "         [ 1.0623, -0.1802],\n",
              "         [ 1.1401, -0.4462],\n",
              "         [ 1.0870, -0.4071],\n",
              "         [ 1.0430, -0.1299],\n",
              "         [ 1.1138, -0.1641]]])"
            ]
          },
          "metadata": {},
          "execution_count": 48
        }
      ]
    },
    {
      "cell_type": "code",
      "source": [
        "x[0]"
      ],
      "metadata": {
        "colab": {
          "base_uri": "https://localhost:8080/"
        },
        "id": "OSdIIgYSBNeC",
        "outputId": "0c4ad1bb-1133-44be-e0e9-5b63b87a351e"
      },
      "execution_count": 16,
      "outputs": [
        {
          "output_type": "execute_result",
          "data": {
            "text/plain": [
              "tensor([[ 0.1808, -0.0700],\n",
              "        [-0.3596, -0.9152],\n",
              "        [ 0.6258,  0.0255],\n",
              "        [ 0.9545,  0.0643],\n",
              "        [ 0.3612,  1.1679],\n",
              "        [-1.3499, -0.5102],\n",
              "        [ 0.2360, -0.2398],\n",
              "        [-0.9211,  1.5433]])"
            ]
          },
          "metadata": {},
          "execution_count": 16
        }
      ]
    },
    {
      "cell_type": "code",
      "source": [
        "xbow[0] # each row is the average of all the elements above it (in the same column)\n",
        "# This implies that the last row has the average of the entire set"
      ],
      "metadata": {
        "colab": {
          "base_uri": "https://localhost:8080/"
        },
        "id": "MHGZhlR0BPRw",
        "outputId": "010ce126-4889-4667-9406-75733f2aa848"
      },
      "execution_count": 18,
      "outputs": [
        {
          "output_type": "execute_result",
          "data": {
            "text/plain": [
              "tensor([[ 0.1808, -0.0700],\n",
              "        [-0.0894, -0.4926],\n",
              "        [ 0.1490, -0.3199],\n",
              "        [ 0.3504, -0.2238],\n",
              "        [ 0.3525,  0.0545],\n",
              "        [ 0.0688, -0.0396],\n",
              "        [ 0.0927, -0.0682],\n",
              "        [-0.0341,  0.1332]])"
            ]
          },
          "metadata": {},
          "execution_count": 18
        }
      ]
    },
    {
      "cell_type": "code",
      "source": [
        "a = torch.tril(torch.ones(3,3))\n",
        "a = a / torch.sum(a, 1, keepdim=False)\n",
        "a"
      ],
      "metadata": {
        "colab": {
          "base_uri": "https://localhost:8080/"
        },
        "id": "AkUaXyrVHTsV",
        "outputId": "1bede7e2-8383-4a25-c0a1-08eca79da02b"
      },
      "execution_count": 41,
      "outputs": [
        {
          "output_type": "execute_result",
          "data": {
            "text/plain": [
              "tensor([[1.0000, 0.0000, 0.0000],\n",
              "        [1.0000, 0.5000, 0.0000],\n",
              "        [1.0000, 0.5000, 0.3333]])"
            ]
          },
          "metadata": {},
          "execution_count": 41
        }
      ]
    },
    {
      "cell_type": "code",
      "source": [
        "# Now we can be much more efficient doing this by using matrix multiplication\n",
        "torch.manual_seed(42)\n",
        "a = torch.tril(torch.ones(3,3))\n",
        "a = a / torch.sum(a, 1, keepdim=True)\n",
        "b = torch.randint(0, 10, (3,2)).float()\n",
        "c = a @ b\n",
        "print('a=')\n",
        "print(a)\n",
        "print('--')\n",
        "print('b=')\n",
        "print(b)\n",
        "print('--')\n",
        "print('c=')\n",
        "print(c)"
      ],
      "metadata": {
        "colab": {
          "base_uri": "https://localhost:8080/"
        },
        "id": "hbmLP-Y5Bk0o",
        "outputId": "c3498dd1-184f-47b1-c5de-3db4973ed5b8"
      },
      "execution_count": 43,
      "outputs": [
        {
          "output_type": "stream",
          "name": "stdout",
          "text": [
            "a=\n",
            "tensor([[1.0000, 0.0000, 0.0000],\n",
            "        [0.5000, 0.5000, 0.0000],\n",
            "        [0.3333, 0.3333, 0.3333]])\n",
            "--\n",
            "b=\n",
            "tensor([[2., 7.],\n",
            "        [6., 4.],\n",
            "        [6., 5.]])\n",
            "--\n",
            "c=\n",
            "tensor([[2.0000, 7.0000],\n",
            "        [4.0000, 5.5000],\n",
            "        [4.6667, 5.3333]])\n"
          ]
        }
      ]
    },
    {
      "cell_type": "code",
      "source": [
        "# In the above code, after using multiplying tensor b with the row averaged lower triangular matrix, we find that in tensor c, each row is the average of the rows above it.\n",
        "# This means that c[n-1] row has the average of all the rows before it"
      ],
      "metadata": {
        "id": "409VzFbmIKHz"
      },
      "execution_count": 45,
      "outputs": []
    },
    {
      "cell_type": "code",
      "source": [
        "# Now let's create use this averaging logic (using a matrix a [lower triangular matrix with row averaged weights]) and apply it to vectorize our bag of words tensor before\n",
        "# This would help us to associate each word with all it's predecessors\n",
        "\n",
        "# The lower triangular matrix actually ensures that each element only gets information from it's predecessors and not it's successors."
      ],
      "metadata": {
        "id": "ZG1OosMvIwgj"
      },
      "execution_count": 57,
      "outputs": []
    },
    {
      "cell_type": "code",
      "source": [
        "wei = torch.tril(torch.ones(T, T))\n",
        "wei = wei/torch.sum(wei, 1, keepdim=True)\n",
        "print(f\"Weight matrix: \\n{wei}\") # each row of it sums to 1\n",
        "\n",
        "# our b here is: x\n",
        "print(f\"  Input matrix: \\n{x}\")\n",
        "\n",
        "# Notice that there is a slight difference in the dimensions. X has dimensions: (B, T, C) however wei has dimensions (T, T). Torch manages itself and creates batches (B) for\n",
        "# the wei matrix to be able to multiply correctly\n",
        "\n",
        "xbow2 = wei @ x # (B, T, T) @ (B, T, C) ----> (B, T, C)\n",
        "torch.allclose(xbow, xbow2)\n",
        "torch.allclose(xbow, xbow2, rtol=1e-04, atol=1e-06)"
      ],
      "metadata": {
        "colab": {
          "base_uri": "https://localhost:8080/"
        },
        "id": "2djxWsYnJMZR",
        "outputId": "c3403256-b2f9-46f2-e263-8cf4cc3aaea6"
      },
      "execution_count": 56,
      "outputs": [
        {
          "output_type": "stream",
          "name": "stdout",
          "text": [
            "Weight matrix: \n",
            "tensor([[1.0000, 0.0000, 0.0000, 0.0000, 0.0000, 0.0000, 0.0000, 0.0000],\n",
            "        [0.5000, 0.5000, 0.0000, 0.0000, 0.0000, 0.0000, 0.0000, 0.0000],\n",
            "        [0.3333, 0.3333, 0.3333, 0.0000, 0.0000, 0.0000, 0.0000, 0.0000],\n",
            "        [0.2500, 0.2500, 0.2500, 0.2500, 0.0000, 0.0000, 0.0000, 0.0000],\n",
            "        [0.2000, 0.2000, 0.2000, 0.2000, 0.2000, 0.0000, 0.0000, 0.0000],\n",
            "        [0.1667, 0.1667, 0.1667, 0.1667, 0.1667, 0.1667, 0.0000, 0.0000],\n",
            "        [0.1429, 0.1429, 0.1429, 0.1429, 0.1429, 0.1429, 0.1429, 0.0000],\n",
            "        [0.1250, 0.1250, 0.1250, 0.1250, 0.1250, 0.1250, 0.1250, 0.1250]])\n",
            "  Input matrix: \n",
            "tensor([[[ 0.1808, -0.0700],\n",
            "         [-0.3596, -0.9152],\n",
            "         [ 0.6258,  0.0255],\n",
            "         [ 0.9545,  0.0643],\n",
            "         [ 0.3612,  1.1679],\n",
            "         [-1.3499, -0.5102],\n",
            "         [ 0.2360, -0.2398],\n",
            "         [-0.9211,  1.5433]],\n",
            "\n",
            "        [[ 1.3488, -0.1396],\n",
            "         [ 0.2858,  0.9651],\n",
            "         [-2.0371,  0.4931],\n",
            "         [ 1.4870,  0.5910],\n",
            "         [ 0.1260, -1.5627],\n",
            "         [-1.1601, -0.3348],\n",
            "         [ 0.4478, -0.8016],\n",
            "         [ 1.5236,  2.5086]],\n",
            "\n",
            "        [[-0.6631, -0.2513],\n",
            "         [ 1.0101,  0.1215],\n",
            "         [ 0.1584,  1.1340],\n",
            "         [-1.1539, -0.2984],\n",
            "         [-0.5075, -0.9239],\n",
            "         [ 0.5467, -1.4948],\n",
            "         [-1.2057,  0.5718],\n",
            "         [-0.5974, -0.6937]],\n",
            "\n",
            "        [[ 1.6455, -0.8030],\n",
            "         [ 1.3514, -0.2759],\n",
            "         [-1.5108,  2.1048],\n",
            "         [ 2.7630, -1.7465],\n",
            "         [ 1.4516, -1.5103],\n",
            "         [ 0.8212, -0.2115],\n",
            "         [ 0.7789,  1.5333],\n",
            "         [ 1.6097, -0.4032]]])\n"
          ]
        },
        {
          "output_type": "execute_result",
          "data": {
            "text/plain": [
              "True"
            ]
          },
          "metadata": {},
          "execution_count": 56
        }
      ]
    },
    {
      "cell_type": "code",
      "source": [
        "# version 3: use Softmax\n",
        "tril = torch.tril(torch.ones(T, T))\n",
        "wei = torch.zeros((T,T))\n",
        "wei = wei.masked_fill(tril == 0, float('-inf'))\n",
        "wei = F.softmax(wei, dim=-1)\n",
        "xbow3 = wei @ x\n",
        "# torch.allclose(xbow, xbow3)\n",
        "torch.allclose(xbow, xbow3, rtol=1e-04, atol=1e-06)\n",
        "\n"
      ],
      "metadata": {
        "colab": {
          "base_uri": "https://localhost:8080/"
        },
        "id": "_lnRznMAMQzH",
        "outputId": "9d3500e8-e4be-46d1-b191-8d1056849d7d"
      },
      "execution_count": 58,
      "outputs": [
        {
          "output_type": "execute_result",
          "data": {
            "text/plain": [
              "True"
            ]
          },
          "metadata": {},
          "execution_count": 58
        }
      ]
    },
    {
      "cell_type": "markdown",
      "source": [
        "## Making some small changes to the script"
      ],
      "metadata": {
        "id": "H2298Y-RPOBu"
      }
    },
    {
      "cell_type": "code",
      "source": [
        "\"\"\" Changes:\n",
        "  -> remove vocab size from the BigramLanguageModel constructor as it is already defined.\n",
        "  -> Introducing a new variable n_embd: short for number of embedding dimensions\n",
        "\"\"\"\n",
        "import torch\n",
        "import torch.nn as nn\n",
        "from torch.nn import functional as F\n",
        "\n",
        "# Hyperparameters\n",
        "batch_size = 16 # how many independent sequences will we process in\n",
        "block_size = 32 # maximum context length for\n",
        "max_iters = 5000\n",
        "eval_interval = 100\n",
        "learning_rate = 1e-3\n",
        "device = 'cuda' if torch.cuda.is_available() else 'cpu'\n",
        "eval_iters = 200\n",
        "n_embd = 32 # number of embedding dimensions\n",
        "\n",
        "#__________________________________________________________________________\n",
        "\n",
        "torch.manual_seed(1337)\n",
        "with open('input.txt', 'r', encoding='utf-8') as f:\n",
        "    text = f.read()\n",
        "\n",
        "# Here we are trying to create a character level language\n",
        "chars = sorted(list(set(text)))\n",
        "vocab_size = len(chars)\n",
        "\n",
        "# Create mapping from characters to integers\n",
        "stoi = {ch: i for i, ch in enumerate(chars)}\n",
        "itos = {i: ch for i, ch in enumerate(chars)}\n",
        "encode = lambda s: [stoi[c] for c in s]\n",
        "\n",
        "decode = lambda l: ''.join([itos[i] for i in l])\n",
        "\n",
        "# train test split\n",
        "data = torch.tensor(encode(text), dtype=torch.long)\n",
        "n = int(0.9 * len(data))\n",
        "train_data = data[:n]\n",
        "val_data = data[n:]\n",
        "\n",
        "# Data loading\n",
        "def get_batch(split):\n",
        "  # Generate small batches of data of inputs x and y\n",
        "  data = train_data if split == 'train' else val_data\n",
        "  ix = torch.randint(len(data) - block_size, (batch_size,))\n",
        "  x = torch.stack([data[i:i+block_size] for i in ix])\n",
        "  y = torch.stack([data[i+1:i+block_size+1] for i in ix])\n",
        "\n",
        "  # This is being done to push the tensors onto the GPU to accelerate training\n",
        "  x, y = x.to(device), y.to(device)\n",
        "\n",
        "  return x, y\n",
        "\n",
        "\n",
        "#This is basically to optimize pytorch. It tells that whatever intermediate\n",
        "# variables are created, don't store them, coz we're never gonna call backwards\n",
        "@torch.no_grad()\n",
        "def estimate_loss():\n",
        "  out = {}\n",
        "  model.eval()\n",
        "  for split in ['train', 'val']:\n",
        "    losses = torch.zeros(eval_iters)\n",
        "    for k in range(eval_iters):\n",
        "      X, Y = get_batch(split)\n",
        "      logits, loss = model(X, Y)\n",
        "      losses[k] = loss.item()\n",
        "    out[split] = losses.mean()\n",
        "  model.train()\n",
        "  return out\n",
        "\n",
        "\n",
        "# _______________________________________________________________________________________\n",
        "\n",
        "# The bigram language model\n",
        "class BigramLanguageModel(nn.Module):\n",
        "  def __init__(self):\n",
        "    super().__init__()\n",
        "    # each token directly reads from the logits for the next token from the lookup table\n",
        "    self.token_embedding_table = nn.Embedding(vocab_size, n_embd)\n",
        "    self.lm_head = nn.Linear(n_embd, vocab_size) # This layer is used to go from token embeddings to the logits\n",
        "    # LM_head stands for language model head\n",
        "\n",
        "  def forward(self, idx, targets=None):\n",
        "    # idx and targets are both (B, T) tensor of integers\n",
        "\n",
        "    # When we replace the vocab size with n_embd, it wouldn't give us logits directly, but rather token embeddings\n",
        "    tok_emb = self.token_embedding_table(idx) # (B, T, C)\n",
        "    logits = self.lm_head(tok_emb) # (B, T, vocab_size())\n",
        "\n",
        "    if targets is None:\n",
        "      loss = None\n",
        "    else:\n",
        "      B, T, C = logits.shape\n",
        "      logits = logits.view(B*T, C)\n",
        "      targets = targets.view(B*T)\n",
        "      loss = F.cross_entropy(logits, targets)\n",
        "    return logits, loss\n",
        "\n",
        "  def generate(self, idx, max_new_tokens):\n",
        "    # idx is (B, T) array of indices in the current\n",
        "    for _ in range(max_new_tokens):\n",
        "      # get the prediction\n",
        "      logits, loss = self(idx)\n",
        "      # Focus only on the last time step\n",
        "      logits = logits[:, -1, :] # becomes (B, C)\n",
        "      # Apply softmax to get probabilities\n",
        "      probs = F.softmax(logits, dim=-1) # (B, C)\n",
        "      # sample from the distribution\n",
        "      idx_next = torch.multinomial(probs, num_samples=1) # (B, 1)\n",
        "      # Applied sampled index to the running sequence\n",
        "      idx = torch.cat((idx, idx_next), dim=1) # (B, T+1)\n",
        "    return idx\n",
        "\n",
        "# _____________________________________________________________________________\n",
        "\n",
        "# Create model\n",
        "model = BigramLanguageModel()\n",
        "m = model.to(device)\n",
        "\n",
        "# Create pytorch optimizer\n",
        "optimizer = torch.optim.AdamW(model.parameters(), lr=learning_rate)\n",
        "\n",
        "for iter in range(max_iters):\n",
        "  # every once in a while evaluate the loss on train and val sets\n",
        "  if iter % eval_interval == 0:\n",
        "    losses = estimate_loss()\n",
        "    print(f\"step {iter}: train loss {losses['train']:.4f}, val loss {losses['val']:.4f}\")\n",
        "  xb, yb = get_batch('train')\n",
        "  # evaluate the loss\n",
        "  logits, loss = model(xb, yb)\n",
        "  optimizer.zero_grad(set_to_none=True)\n",
        "  loss.backward()\n",
        "  optimizer.step()\n",
        "\n",
        "# Generate from the model\n",
        "context = torch.zeros((1, 1), dtype=torch.long, device=device)\n",
        "print(decode(m.generate(context, max_new_tokens=1000)[0].tolist()))\n",
        "\n"
      ],
      "metadata": {
        "colab": {
          "base_uri": "https://localhost:8080/"
        },
        "id": "FXP0cIUAPQLK",
        "outputId": "ce8d2d6d-dd8a-4cce-fb30-f138092014be"
      },
      "execution_count": 59,
      "outputs": [
        {
          "output_type": "stream",
          "name": "stdout",
          "text": [
            "step 0: train loss 4.3857, val loss 4.3773\n",
            "step 100: train loss 3.5081, val loss 3.5110\n",
            "step 200: train loss 3.0604, val loss 3.0634\n",
            "step 300: train loss 2.8407, val loss 2.8571\n",
            "step 400: train loss 2.7288, val loss 2.7438\n",
            "step 500: train loss 2.6491, val loss 2.6719\n",
            "step 600: train loss 2.6159, val loss 2.6350\n",
            "step 700: train loss 2.5908, val loss 2.6085\n",
            "step 800: train loss 2.5589, val loss 2.5747\n",
            "step 900: train loss 2.5479, val loss 2.5706\n",
            "step 1000: train loss 2.5414, val loss 2.5546\n",
            "step 1100: train loss 2.5327, val loss 2.5480\n",
            "step 1200: train loss 2.5229, val loss 2.5386\n",
            "step 1300: train loss 2.5233, val loss 2.5298\n",
            "step 1400: train loss 2.5080, val loss 2.5243\n",
            "step 1500: train loss 2.5060, val loss 2.5102\n",
            "step 1600: train loss 2.5112, val loss 2.5210\n",
            "step 1700: train loss 2.4974, val loss 2.5086\n",
            "step 1800: train loss 2.4995, val loss 2.5159\n",
            "step 1900: train loss 2.4898, val loss 2.5111\n",
            "step 2000: train loss 2.4965, val loss 2.5130\n",
            "step 2100: train loss 2.4911, val loss 2.5068\n",
            "step 2200: train loss 2.4899, val loss 2.5052\n",
            "step 2300: train loss 2.4835, val loss 2.5049\n",
            "step 2400: train loss 2.4817, val loss 2.5020\n",
            "step 2500: train loss 2.4847, val loss 2.5051\n",
            "step 2600: train loss 2.4789, val loss 2.5052\n",
            "step 2700: train loss 2.4817, val loss 2.5018\n",
            "step 2800: train loss 2.4819, val loss 2.4952\n",
            "step 2900: train loss 2.4773, val loss 2.4965\n",
            "step 3000: train loss 2.4776, val loss 2.4920\n",
            "step 3100: train loss 2.4722, val loss 2.4978\n",
            "step 3200: train loss 2.4761, val loss 2.4960\n",
            "step 3300: train loss 2.4772, val loss 2.4993\n",
            "step 3400: train loss 2.4773, val loss 2.4948\n",
            "step 3500: train loss 2.4795, val loss 2.4932\n",
            "step 3600: train loss 2.4808, val loss 2.4937\n",
            "step 3700: train loss 2.4745, val loss 2.4923\n",
            "step 3800: train loss 2.4722, val loss 2.4948\n",
            "step 3900: train loss 2.4672, val loss 2.4978\n",
            "step 4000: train loss 2.4705, val loss 2.4857\n",
            "step 4100: train loss 2.4654, val loss 2.4906\n",
            "step 4200: train loss 2.4716, val loss 2.4870\n",
            "step 4300: train loss 2.4650, val loss 2.4894\n",
            "step 4400: train loss 2.4728, val loss 2.4896\n",
            "step 4500: train loss 2.4779, val loss 2.4901\n",
            "step 4600: train loss 2.4670, val loss 2.4874\n",
            "step 4700: train loss 2.4703, val loss 2.4921\n",
            "step 4800: train loss 2.4674, val loss 2.4880\n",
            "step 4900: train loss 2.4652, val loss 2.4863\n",
            "\n",
            "\n",
            "\n",
            "CEThik bridcowindakis s, ble\n",
            "\n",
            "Hiset bobe d e.\n",
            "S:\n",
            "O:\n",
            "IS:\n",
            "Falatauss:\n",
            "Wanthar u qur, vet?\n",
            "F dilasoate awice my.\n",
            "\n",
            "HDERarom oroup\n",
            "Yowhthetof isth ble mil ndill, ath iree senghin lat Heriliovets, and Win nghir.\n",
            "Thanousel lind me l.\n",
            "HAshe ce hiry:\n",
            "Supr aisspllw y.\n",
            "Hllinde n Boopetelives\n",
            "MPRD:\n",
            "I od mothakeeo Windo whth eribyo wie m dourive we higend t so mower; te\n",
            "\n",
            "AN ad nterupt f s ar iris! m:\n",
            "\n",
            "Thin inleronth,\n",
            "Mad\n",
            "Whed my o myr f-\n",
            "LIERor,\n",
            "Sby ak\n",
            "Sadsal thes ghesthidin cour ay aney Iry ts I fr y ce.\n",
            "Jonghe nd, bemary.\n",
            "Yof 'sour mend sora anghy t--'nomeshthe me mrdand s st sulin s th llety od, wiourco ffepyotssthecas l.\n",
            "TAn.\n",
            "Mourethal wave.\n",
            "se ed Pe bene ovetour dithecher os cok ovet s.\n",
            "\n",
            "O:\n",
            "He d he be fe f tas ny, ct CINovecest hes,\n",
            "A: d, he n, so me acheanthataker aghercobun ws m k s withoumas Fond the wlld INour id, mersed\n",
            "Fourd?\n",
            "TI idurd po venond, d Ce?\n",
            "Fy\n",
            "K:\n",
            "BI doou tiund thornofen e sutan wiporthare whanot, sitthers, spe Bllellke, ouns h O, t pan, cr wat d tive wout ir f au;\n",
            "\n",
            "Fe cen oue\n"
          ]
        }
      ]
    },
    {
      "cell_type": "code",
      "source": [
        "# version 4: self-attention!\n",
        "torch.manual_seed(1337)\n",
        "B,T,C = 4,8,32 # batch, time, channels\n",
        "x = torch.randn(B,T,C)\n",
        "\n",
        "# let's see a single Head perform self-attention\n",
        "head_size = 16\n",
        "key = nn.Linear(C, head_size, bias=False)\n",
        "query = nn.Linear(C, head_size, bias=False)\n",
        "value = nn.Linear(C, head_size, bias=False)\n",
        "k = key(x)   # (B, T, 16)\n",
        "q = query(x) # (B, T, 16)\n",
        "wei =  q @ k.transpose(-2, -1) # (B, T, 16) @ (B, 16, T) ---> (B, T, T)\n",
        "\n",
        "tril = torch.tril(torch.ones(T, T))\n",
        "#wei = torch.zeros((T,T))\n",
        "wei = wei.masked_fill(tril == 0, float('-inf'))\n",
        "wei = F.softmax(wei, dim=-1)\n",
        "\n",
        "v = value(x)\n",
        "out = wei @ v\n",
        "#out = wei @ x\n",
        "\n",
        "out.shape"
      ],
      "metadata": {
        "colab": {
          "base_uri": "https://localhost:8080/"
        },
        "id": "YXAXeucyLaog",
        "outputId": "0bd06384-bbaa-4d41-bdeb-9decff0cbf2f"
      },
      "execution_count": 8,
      "outputs": [
        {
          "output_type": "execute_result",
          "data": {
            "text/plain": [
              "torch.Size([4, 8, 16])"
            ]
          },
          "metadata": {},
          "execution_count": 8
        }
      ]
    },
    {
      "cell_type": "code",
      "source": [
        "wei[0]"
      ],
      "metadata": {
        "id": "fA-YM5DHMjmA",
        "outputId": "5115fa2e-6933-468c-8795-7236f35fef94",
        "colab": {
          "base_uri": "https://localhost:8080/"
        }
      },
      "execution_count": 9,
      "outputs": [
        {
          "output_type": "execute_result",
          "data": {
            "text/plain": [
              "tensor([[1.0000, 0.0000, 0.0000, 0.0000, 0.0000, 0.0000, 0.0000, 0.0000],\n",
              "        [0.1574, 0.8426, 0.0000, 0.0000, 0.0000, 0.0000, 0.0000, 0.0000],\n",
              "        [0.2088, 0.1646, 0.6266, 0.0000, 0.0000, 0.0000, 0.0000, 0.0000],\n",
              "        [0.5792, 0.1187, 0.1889, 0.1131, 0.0000, 0.0000, 0.0000, 0.0000],\n",
              "        [0.0294, 0.1052, 0.0469, 0.0276, 0.7909, 0.0000, 0.0000, 0.0000],\n",
              "        [0.0176, 0.2689, 0.0215, 0.0089, 0.6812, 0.0019, 0.0000, 0.0000],\n",
              "        [0.1691, 0.4066, 0.0438, 0.0416, 0.1048, 0.2012, 0.0329, 0.0000],\n",
              "        [0.0210, 0.0843, 0.0555, 0.2297, 0.0573, 0.0709, 0.2423, 0.2391]],\n",
              "       grad_fn=<SelectBackward0>)"
            ]
          },
          "metadata": {},
          "execution_count": 9
        }
      ]
    },
    {
      "cell_type": "code",
      "source": [],
      "metadata": {
        "id": "1TvdSA90MleJ"
      },
      "execution_count": 9,
      "outputs": []
    }
  ]
}