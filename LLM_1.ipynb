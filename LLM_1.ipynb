{
  "nbformat": 4,
  "nbformat_minor": 0,
  "metadata": {
    "colab": {
      "provenance": [],
      "gpuType": "T4",
      "authorship_tag": "ABX9TyM+qtpsGnBK6DwTcruVdnX3",
      "include_colab_link": true
    },
    "kernelspec": {
      "name": "python3",
      "display_name": "Python 3"
    },
    "language_info": {
      "name": "python"
    },
    "accelerator": "GPU"
  },
  "cells": [
    {
      "cell_type": "markdown",
      "metadata": {
        "id": "view-in-github",
        "colab_type": "text"
      },
      "source": [
        "<a href=\"https://colab.research.google.com/github/dhruvchopra2003/Paper2/blob/main/LLM_1.ipynb\" target=\"_parent\"><img src=\"https://colab.research.google.com/assets/colab-badge.svg\" alt=\"Open In Colab\"/></a>"
      ]
    },
    {
      "cell_type": "code",
      "execution_count": 1,
      "metadata": {
        "colab": {
          "base_uri": "https://localhost:8080/"
        },
        "id": "IvRdvxvvq7Vt",
        "outputId": "67e2ffd7-18f4-4fd1-a74e-5ba94404091b"
      },
      "outputs": [
        {
          "output_type": "stream",
          "name": "stdout",
          "text": [
            "--2024-09-18 13:16:10--  https://raw.githubusercontent.com/karpathy/char-rnn/master/data/tinyshakespeare/input.txt\n",
            "Resolving raw.githubusercontent.com (raw.githubusercontent.com)... 185.199.108.133, 185.199.109.133, 185.199.110.133, ...\n",
            "Connecting to raw.githubusercontent.com (raw.githubusercontent.com)|185.199.108.133|:443... connected.\n",
            "HTTP request sent, awaiting response... 200 OK\n",
            "Length: 1115394 (1.1M) [text/plain]\n",
            "Saving to: ‘input.txt’\n",
            "\n",
            "input.txt           100%[===================>]   1.06M  --.-KB/s    in 0.04s   \n",
            "\n",
            "2024-09-18 13:16:10 (26.0 MB/s) - ‘input.txt’ saved [1115394/1115394]\n",
            "\n"
          ]
        }
      ],
      "source": [
        "!wget https://raw.githubusercontent.com/karpathy/char-rnn/master/data/tinyshakespeare/input.txt"
      ]
    },
    {
      "cell_type": "code",
      "source": [
        "import torch\n",
        "import torch.nn as nn\n",
        "from torch.nn import functional as F\n",
        "\n",
        "# Hyperparameters\n",
        "batch_size = 16 # how many independent sequences will we process in\n",
        "block_size = 32 # maximum context length for\n",
        "max_iters = 5000\n",
        "eval_interval = 100\n",
        "learning_rate = 1e-3\n",
        "device = 'cuda' if torch.cuda.is_available() else 'cpu'\n",
        "eval_iters = 200\n",
        "\n",
        "#_________________\n",
        "\n",
        "torch.manual_seed(1337)\n",
        "with open('input.txt', 'r', encoding='utf-8') as f:\n",
        "    text = f.read()\n",
        "\n",
        "# Here we are trying to create a character level language\n",
        "chars = sorted(list(set(text)))\n",
        "vocab_size = len(chars)\n",
        "\n",
        "# Create mapping from characters to integers\n",
        "stoi = {ch: i for i, ch in enumerate(chars)}\n",
        "itos = {i: ch for i, ch in enumerate(chars)}\n",
        "encode = lambda s: [stoi[c] for c in s]\n",
        "\n",
        "decode = lambda l: ''.join([itos[i] for i in l])\n",
        "\n",
        "# train test split\n",
        "data = torch.tensor(encode(text), dtype=torch.long)\n",
        "n = int(0.9 * len(data))\n",
        "train_data = data[:n]\n",
        "val_data = data[n:]\n",
        "\n",
        "# Data loading\n",
        "def get_batch(split):\n",
        "  # Generate small batches of data of inputs x and y\n",
        "  data = train_data if split == 'train' else val_data\n",
        "  ix = torch.randint(len(data) - block_size, (batch_size,))\n",
        "  x = torch.stack([data[i:i+block_size] for i in ix])\n",
        "  y = torch.stack([data[i+1:i+block_size+1] for i in ix])\n",
        "\n",
        "  # This is being done to push the tensors onto the GPU to accelerate training\n",
        "  x, y = x.to(device), y.to(device)\n",
        "\n",
        "  return x, y\n",
        "\n",
        "\n",
        "#This is basically to optimize pytorch. It tells that whatever intermediate\n",
        "# variables are created, don't store them, coz we're never gonna call backwards\n",
        "@torch.no_grad()\n",
        "def estimate_loss():\n",
        "  out = {}\n",
        "  model.eval()\n",
        "  for split in ['train', 'val']:\n",
        "    losses = torch.zeros(eval_iters)\n",
        "    for k in range(eval_iters):\n",
        "      X, Y = get_batch(split)\n",
        "      logits, loss = model(X, Y)\n",
        "      losses[k] = loss.item()\n",
        "    out[split] = losses.mean()\n",
        "  model.train()\n",
        "  return out\n",
        "\n",
        "# The bigram language model\n",
        "class BigramLanguageModel(nn.Module):\n",
        "  def __init__(self, vocab_size):\n",
        "    super().__init__()\n",
        "    # each token directly reads from the logits for the next token from the lookup table\n",
        "    self.token_embedding_table = nn.Embedding(vocab_size, vocab_size)\n",
        "\n",
        "  def forward(self, idx, targets=None):\n",
        "    # idx and targets are both (B, T) tensor of integers\n",
        "    logits = self.token_embedding_table(idx) # (B, T, C)\n",
        "\n",
        "    if targets is None:\n",
        "      loss = None\n",
        "    else:\n",
        "      B, T, C = logits.shape\n",
        "      logits = logits.view(B*T, C)\n",
        "      targets = targets.view(B*T)\n",
        "      loss = F.cross_entropy(logits, targets)\n",
        "    return logits, loss\n",
        "\n",
        "  def generate(self, idx, max_new_tokens):\n",
        "    # idx is (B, T) array of indices in the current\n",
        "    for _ in range(max_new_tokens):\n",
        "      # get the prediction\n",
        "      logits, loss = self(idx)\n",
        "      # Focus only on the last time step\n",
        "      logits = logits[:, -1, :] # becomes (B, C)\n",
        "      # Apply softmax to get probabilities\n",
        "      probs = F.softmax(logits, dim=-1) # (B, C)\n",
        "      # sample from the distribution\n",
        "      idx_next = torch.multinomial(probs, num_samples=1) # (B, 1)\n",
        "      # Applied sampled index to the running sequence\n",
        "      idx = torch.cat((idx, idx_next), dim=1) # (B, T+1)\n",
        "    return idx\n",
        "\n",
        "model = BigramLanguageModel(vocab_size)\n",
        "m = model.to(device)\n",
        "\n",
        "# Create pytorch optimizer\n",
        "optimizer = torch.optim.AdamW(model.parameters(), lr=learning_rate)\n",
        "\n",
        "for iter in range(max_iters):\n",
        "  # every once in a while evaluate the loss on train and val sets\n",
        "  if iter % eval_interval == 0:\n",
        "    losses = estimate_loss()\n",
        "    print(f\"step {iter}: train loss {losses['train']:.4f}, val loss {losses['val']:.4f}\")\n",
        "  xb, yb = get_batch('train')\n",
        "  # evaluate the loss\n",
        "  logits, loss = model(xb, yb)\n",
        "  optimizer.zero_grad(set_to_none=True)\n",
        "  loss.backward()\n",
        "  optimizer.step()\n",
        "\n",
        "# Generate from the model\n",
        "context = torch.zeros((1, 1), dtype=torch.long, device=device)\n",
        "print(decode(m.generate(context, max_new_tokens=1000)[0].tolist()))\n",
        "\n"
      ],
      "metadata": {
        "colab": {
          "base_uri": "https://localhost:8080/"
        },
        "id": "lKreGNe3Ifgh",
        "outputId": "c94acc93-8f80-4a57-e865-73ac72578313"
      },
      "execution_count": 2,
      "outputs": [
        {
          "output_type": "stream",
          "name": "stdout",
          "text": [
            "step 0: train loss 4.7260, val loss 4.7259\n",
            "step 100: train loss 4.5986, val loss 4.5953\n",
            "step 200: train loss 4.4763, val loss 4.4755\n",
            "step 300: train loss 4.3572, val loss 4.3574\n",
            "step 400: train loss 4.2446, val loss 4.2459\n",
            "step 500: train loss 4.1332, val loss 4.1303\n",
            "step 600: train loss 4.0279, val loss 4.0317\n",
            "step 700: train loss 3.9268, val loss 3.9321\n",
            "step 800: train loss 3.8344, val loss 3.8387\n",
            "step 900: train loss 3.7425, val loss 3.7476\n",
            "step 1000: train loss 3.6578, val loss 3.6587\n",
            "step 1100: train loss 3.5823, val loss 3.5821\n",
            "step 1200: train loss 3.5049, val loss 3.5055\n",
            "step 1300: train loss 3.4314, val loss 3.4358\n",
            "step 1400: train loss 3.3648, val loss 3.3694\n",
            "step 1500: train loss 3.2985, val loss 3.3034\n",
            "step 1600: train loss 3.2409, val loss 3.2487\n",
            "step 1700: train loss 3.1900, val loss 3.1855\n",
            "step 1800: train loss 3.1357, val loss 3.1408\n",
            "step 1900: train loss 3.0850, val loss 3.0887\n",
            "step 2000: train loss 3.0422, val loss 3.0514\n",
            "step 2100: train loss 3.0007, val loss 3.0041\n",
            "step 2200: train loss 2.9589, val loss 2.9662\n",
            "step 2300: train loss 2.9247, val loss 2.9305\n",
            "step 2400: train loss 2.8890, val loss 2.8972\n",
            "step 2500: train loss 2.8583, val loss 2.8649\n",
            "step 2600: train loss 2.8261, val loss 2.8387\n",
            "step 2700: train loss 2.8059, val loss 2.8068\n",
            "step 2800: train loss 2.7795, val loss 2.7798\n",
            "step 2900: train loss 2.7514, val loss 2.7597\n",
            "step 3000: train loss 2.7310, val loss 2.7361\n",
            "step 3100: train loss 2.7093, val loss 2.7199\n",
            "step 3200: train loss 2.6949, val loss 2.7014\n",
            "step 3300: train loss 2.6800, val loss 2.6906\n",
            "step 3400: train loss 2.6659, val loss 2.6720\n",
            "step 3500: train loss 2.6542, val loss 2.6589\n",
            "step 3600: train loss 2.6422, val loss 2.6397\n",
            "step 3700: train loss 2.6254, val loss 2.6312\n",
            "step 3800: train loss 2.6125, val loss 2.6232\n",
            "step 3900: train loss 2.5985, val loss 2.6159\n",
            "step 4000: train loss 2.5917, val loss 2.5982\n",
            "step 4100: train loss 2.5802, val loss 2.5929\n",
            "step 4200: train loss 2.5774, val loss 2.5835\n",
            "step 4300: train loss 2.5641, val loss 2.5792\n",
            "step 4400: train loss 2.5629, val loss 2.5713\n",
            "step 4500: train loss 2.5629, val loss 2.5665\n",
            "step 4600: train loss 2.5494, val loss 2.5590\n",
            "step 4700: train loss 2.5447, val loss 2.5575\n",
            "step 4800: train loss 2.5393, val loss 2.5499\n",
            "step 4900: train loss 2.5314, val loss 2.5436\n",
            "\n",
            "\n",
            "\n",
            "CExfikRO:\n",
            "wcowindake la, btKEY: sen bobe d e.\n",
            "S:gO:33SA:\n",
            "\n",
            "\n",
            "LTanss:\n",
            "WanthaiNu qur, vet?\n",
            "F dXENDoate awice my.\n",
            "\n",
            "Thstacomzoroup\n",
            "Yow&$FMOUf isth ble mil;KI ll, ath iree sengmin lat Heriliov ts, anend l nghir.\n",
            "Swanousel lind me l.\n",
            "MAull ce hiry:\n",
            "Supr aisspllw y.\n",
            "Jurindu n Boopetelaves\n",
            "MP:\n",
            "\n",
            "Pl, d motSSkllo W-S:\n",
            "FourtCeiib3s the m dourivETENGShire s p-LOK:\n",
            "\n",
            "NxTre\n",
            "\n",
            "ALONomnterupt f s ar iris! m:\n",
            "\n",
            "Thiny aleronth,\n",
            "MadPre?\n",
            "\n",
            "WISo myr f-NLIE!\n",
            "KENob&y, wardsal thesE: fond uin cNI ayaraney Iry ts I&fr t c!\n",
            "MykenEE:\n",
            "PAke mary.\n",
            "Yof 'WWh wne?m sora anghse.-e?nomangqqurten.\n",
            "Wand tho-me cin s th llugivome.\n",
            "I muco ffspy tssthecas l.\n",
            "TAnEias wethal wave.\n",
            "se ed PTABene oveveaimoCas!\n",
            "\n",
            "\n",
            "\n",
            "Cos cok hedin tie s ingo he te feRUCatLI:\n",
            "Wh$g Clo gscP!-nisthou ldu It n,Forxlone.\n",
            "\n",
            "An!\n",
            "HAnkes aghercoERWAws m k s withoumas Fond ths wllo INour id, mFosedInsurd?\n",
            "TIOMy hithin&XnGenond CDWity\n",
            "K:\n",
            "BIUSHou tiunorthornofen e sutan Ciporthare whanothavitthers,l pESBllollke, on s h O, t pan, ce wat d&Live Wout ir f au;\n",
            "yonkzeginee\n"
          ]
        }
      ]
    },
    {
      "cell_type": "markdown",
      "source": [
        "## Mathematical Logic behind self attention"
      ],
      "metadata": {
        "id": "dfnA8ST8JMpz"
      }
    },
    {
      "cell_type": "code",
      "source": [
        "torch.manual_seed(1337)\n",
        "B,T,C = 4,8,2 # batch, time, channels\n",
        "x = torch.randn(B,T,C)\n",
        "x.shape"
      ],
      "metadata": {
        "colab": {
          "base_uri": "https://localhost:8080/"
        },
        "id": "DtqM7sDFMVtA",
        "outputId": "3b6e66a4-77ef-40ac-f881-cdefccc7d185"
      },
      "execution_count": null,
      "outputs": [
        {
          "output_type": "execute_result",
          "data": {
            "text/plain": [
              "torch.Size([4, 8, 2])"
            ]
          },
          "metadata": {},
          "execution_count": 3
        }
      ]
    },
    {
      "cell_type": "markdown",
      "source": [
        "Now we need the tokens to interact with each other. We basically want each token to have some representation in terms of it's preceeding tokens. Simplest way is to take the average of the channels of each predecessor."
      ],
      "metadata": {
        "id": "3iN_9_z7_YzK"
      }
    },
    {
      "cell_type": "code",
      "source": [
        "# We want x[b,t] = mean_{i<=t} x[b,i]\n",
        "xbow = torch.zeros((B,T,C)) # bow aka: bag of words -> used for averaging a set of words\n",
        "for b in range(B):\n",
        "    for t in range(T):\n",
        "        xprev = x[b,:t+1] # (t,C)\n",
        "        xbow[b,t] = torch.mean(xprev, 0)\n"
      ],
      "metadata": {
        "id": "FQqsCTSQJTx8"
      },
      "execution_count": null,
      "outputs": []
    },
    {
      "cell_type": "code",
      "source": [
        "xbow"
      ],
      "metadata": {
        "colab": {
          "base_uri": "https://localhost:8080/"
        },
        "id": "ZVpqMP1mK4O-",
        "outputId": "e263af4c-5444-49d9-c52c-50f338895326"
      },
      "execution_count": null,
      "outputs": [
        {
          "output_type": "execute_result",
          "data": {
            "text/plain": [
              "tensor([[[ 0.1808, -0.0700],\n",
              "         [-0.0894, -0.4926],\n",
              "         [ 0.1490, -0.3199],\n",
              "         [ 0.3504, -0.2238],\n",
              "         [ 0.3525,  0.0545],\n",
              "         [ 0.0688, -0.0396],\n",
              "         [ 0.0927, -0.0682],\n",
              "         [-0.0341,  0.1332]],\n",
              "\n",
              "        [[ 1.3488, -0.1396],\n",
              "         [ 0.8173,  0.4127],\n",
              "         [-0.1342,  0.4395],\n",
              "         [ 0.2711,  0.4774],\n",
              "         [ 0.2421,  0.0694],\n",
              "         [ 0.0084,  0.0020],\n",
              "         [ 0.0712, -0.1128],\n",
              "         [ 0.2527,  0.2149]],\n",
              "\n",
              "        [[-0.6631, -0.2513],\n",
              "         [ 0.1735, -0.0649],\n",
              "         [ 0.1685,  0.3348],\n",
              "         [-0.1621,  0.1765],\n",
              "         [-0.2312, -0.0436],\n",
              "         [-0.1015, -0.2855],\n",
              "         [-0.2593, -0.1630],\n",
              "         [-0.3015, -0.2293]],\n",
              "\n",
              "        [[ 1.6455, -0.8030],\n",
              "         [ 1.4985, -0.5395],\n",
              "         [ 0.4954,  0.3420],\n",
              "         [ 1.0623, -0.1802],\n",
              "         [ 1.1401, -0.4462],\n",
              "         [ 1.0870, -0.4071],\n",
              "         [ 1.0430, -0.1299],\n",
              "         [ 1.1138, -0.1641]]])"
            ]
          },
          "metadata": {},
          "execution_count": 5
        }
      ]
    },
    {
      "cell_type": "code",
      "source": [
        "x[0]"
      ],
      "metadata": {
        "colab": {
          "base_uri": "https://localhost:8080/"
        },
        "id": "OSdIIgYSBNeC",
        "outputId": "9c8db327-9498-4d51-b5f9-c0c6fefa3706"
      },
      "execution_count": null,
      "outputs": [
        {
          "output_type": "execute_result",
          "data": {
            "text/plain": [
              "tensor([[ 0.1808, -0.0700],\n",
              "        [-0.3596, -0.9152],\n",
              "        [ 0.6258,  0.0255],\n",
              "        [ 0.9545,  0.0643],\n",
              "        [ 0.3612,  1.1679],\n",
              "        [-1.3499, -0.5102],\n",
              "        [ 0.2360, -0.2398],\n",
              "        [-0.9211,  1.5433]])"
            ]
          },
          "metadata": {},
          "execution_count": 6
        }
      ]
    },
    {
      "cell_type": "code",
      "source": [
        "xbow[0] # each row is the average of all the elements above it (in the same column)\n",
        "# This implies that the last row has the average of the entire set"
      ],
      "metadata": {
        "colab": {
          "base_uri": "https://localhost:8080/"
        },
        "id": "MHGZhlR0BPRw",
        "outputId": "a72bb82c-8db2-4e55-aee3-cbd78f946cb7"
      },
      "execution_count": null,
      "outputs": [
        {
          "output_type": "execute_result",
          "data": {
            "text/plain": [
              "tensor([[ 0.1808, -0.0700],\n",
              "        [-0.0894, -0.4926],\n",
              "        [ 0.1490, -0.3199],\n",
              "        [ 0.3504, -0.2238],\n",
              "        [ 0.3525,  0.0545],\n",
              "        [ 0.0688, -0.0396],\n",
              "        [ 0.0927, -0.0682],\n",
              "        [-0.0341,  0.1332]])"
            ]
          },
          "metadata": {},
          "execution_count": 7
        }
      ]
    },
    {
      "cell_type": "code",
      "source": [
        "a = torch.tril(torch.ones(3,3))\n",
        "a = a / torch.sum(a, 1, keepdim=False)\n",
        "a"
      ],
      "metadata": {
        "colab": {
          "base_uri": "https://localhost:8080/"
        },
        "id": "AkUaXyrVHTsV",
        "outputId": "25848565-2d1c-4c4c-b336-ac03e9dfbf2f"
      },
      "execution_count": null,
      "outputs": [
        {
          "output_type": "execute_result",
          "data": {
            "text/plain": [
              "tensor([[1.0000, 0.0000, 0.0000],\n",
              "        [1.0000, 0.5000, 0.0000],\n",
              "        [1.0000, 0.5000, 0.3333]])"
            ]
          },
          "metadata": {},
          "execution_count": 8
        }
      ]
    },
    {
      "cell_type": "code",
      "source": [
        "# Now we can be much more efficient doing this by using matrix multiplication\n",
        "torch.manual_seed(42)\n",
        "a = torch.tril(torch.ones(3,3))\n",
        "a = a / torch.sum(a, 1, keepdim=True)\n",
        "b = torch.randint(0, 10, (3,2)).float()\n",
        "c = a @ b\n",
        "print('a=')\n",
        "print(a)\n",
        "print('--')\n",
        "print('b=')\n",
        "print(b)\n",
        "print('--')\n",
        "print('c=')\n",
        "print(c)"
      ],
      "metadata": {
        "colab": {
          "base_uri": "https://localhost:8080/"
        },
        "id": "hbmLP-Y5Bk0o",
        "outputId": "658dc443-1e0b-47c7-b164-176ff6abe16e"
      },
      "execution_count": null,
      "outputs": [
        {
          "output_type": "stream",
          "name": "stdout",
          "text": [
            "a=\n",
            "tensor([[1.0000, 0.0000, 0.0000],\n",
            "        [0.5000, 0.5000, 0.0000],\n",
            "        [0.3333, 0.3333, 0.3333]])\n",
            "--\n",
            "b=\n",
            "tensor([[2., 7.],\n",
            "        [6., 4.],\n",
            "        [6., 5.]])\n",
            "--\n",
            "c=\n",
            "tensor([[2.0000, 7.0000],\n",
            "        [4.0000, 5.5000],\n",
            "        [4.6667, 5.3333]])\n"
          ]
        }
      ]
    },
    {
      "cell_type": "code",
      "source": [
        "# In the above code, after using multiplying tensor b with the row averaged lower triangular matrix, we find that in tensor c, each row is the average of the rows above it.\n",
        "# This means that c[n-1] row has the average of all the rows before it"
      ],
      "metadata": {
        "id": "409VzFbmIKHz"
      },
      "execution_count": null,
      "outputs": []
    },
    {
      "cell_type": "code",
      "source": [
        "# Now let's create use this averaging logic (using a matrix a [lower triangular matrix with row averaged weights]) and apply it to vectorize our bag of words tensor before\n",
        "# This would help us to associate each word with all it's predecessors\n",
        "\n",
        "# The lower triangular matrix actually ensures that each element only gets information from it's predecessors and not it's successors."
      ],
      "metadata": {
        "id": "ZG1OosMvIwgj"
      },
      "execution_count": null,
      "outputs": []
    },
    {
      "cell_type": "code",
      "source": [
        "wei = torch.tril(torch.ones(T, T))\n",
        "wei = wei/torch.sum(wei, 1, keepdim=True)\n",
        "print(f\"Weight matrix: \\n{wei}\") # each row of it sums to 1\n",
        "\n",
        "# our b here is: x\n",
        "print(f\"  Input matrix: \\n{x}\")\n",
        "\n",
        "# Notice that there is a slight difference in the dimensions. X has dimensions: (B, T, C) however wei has dimensions (T, T). Torch manages itself and creates batches (B) for\n",
        "# the wei matrix to be able to multiply correctly\n",
        "\n",
        "xbow2 = wei @ x # (B, T, T) @ (B, T, C) ----> (B, T, C)\n",
        "torch.allclose(xbow, xbow2)\n",
        "torch.allclose(xbow, xbow2, rtol=1e-04, atol=1e-06)"
      ],
      "metadata": {
        "colab": {
          "base_uri": "https://localhost:8080/"
        },
        "id": "2djxWsYnJMZR",
        "outputId": "7e927f34-18b0-4b5a-f7b2-48fa55629dff"
      },
      "execution_count": null,
      "outputs": [
        {
          "output_type": "stream",
          "name": "stdout",
          "text": [
            "Weight matrix: \n",
            "tensor([[1.0000, 0.0000, 0.0000, 0.0000, 0.0000, 0.0000, 0.0000, 0.0000],\n",
            "        [0.5000, 0.5000, 0.0000, 0.0000, 0.0000, 0.0000, 0.0000, 0.0000],\n",
            "        [0.3333, 0.3333, 0.3333, 0.0000, 0.0000, 0.0000, 0.0000, 0.0000],\n",
            "        [0.2500, 0.2500, 0.2500, 0.2500, 0.0000, 0.0000, 0.0000, 0.0000],\n",
            "        [0.2000, 0.2000, 0.2000, 0.2000, 0.2000, 0.0000, 0.0000, 0.0000],\n",
            "        [0.1667, 0.1667, 0.1667, 0.1667, 0.1667, 0.1667, 0.0000, 0.0000],\n",
            "        [0.1429, 0.1429, 0.1429, 0.1429, 0.1429, 0.1429, 0.1429, 0.0000],\n",
            "        [0.1250, 0.1250, 0.1250, 0.1250, 0.1250, 0.1250, 0.1250, 0.1250]])\n",
            "  Input matrix: \n",
            "tensor([[[ 0.1808, -0.0700],\n",
            "         [-0.3596, -0.9152],\n",
            "         [ 0.6258,  0.0255],\n",
            "         [ 0.9545,  0.0643],\n",
            "         [ 0.3612,  1.1679],\n",
            "         [-1.3499, -0.5102],\n",
            "         [ 0.2360, -0.2398],\n",
            "         [-0.9211,  1.5433]],\n",
            "\n",
            "        [[ 1.3488, -0.1396],\n",
            "         [ 0.2858,  0.9651],\n",
            "         [-2.0371,  0.4931],\n",
            "         [ 1.4870,  0.5910],\n",
            "         [ 0.1260, -1.5627],\n",
            "         [-1.1601, -0.3348],\n",
            "         [ 0.4478, -0.8016],\n",
            "         [ 1.5236,  2.5086]],\n",
            "\n",
            "        [[-0.6631, -0.2513],\n",
            "         [ 1.0101,  0.1215],\n",
            "         [ 0.1584,  1.1340],\n",
            "         [-1.1539, -0.2984],\n",
            "         [-0.5075, -0.9239],\n",
            "         [ 0.5467, -1.4948],\n",
            "         [-1.2057,  0.5718],\n",
            "         [-0.5974, -0.6937]],\n",
            "\n",
            "        [[ 1.6455, -0.8030],\n",
            "         [ 1.3514, -0.2759],\n",
            "         [-1.5108,  2.1048],\n",
            "         [ 2.7630, -1.7465],\n",
            "         [ 1.4516, -1.5103],\n",
            "         [ 0.8212, -0.2115],\n",
            "         [ 0.7789,  1.5333],\n",
            "         [ 1.6097, -0.4032]]])\n"
          ]
        },
        {
          "output_type": "execute_result",
          "data": {
            "text/plain": [
              "True"
            ]
          },
          "metadata": {},
          "execution_count": 12
        }
      ]
    },
    {
      "cell_type": "code",
      "source": [
        "# version 3: use Softmax\n",
        "tril = torch.tril(torch.ones(T, T))\n",
        "wei = torch.zeros((T,T))\n",
        "wei = wei.masked_fill(tril == 0, float('-inf'))\n",
        "wei = F.softmax(wei, dim=-1)\n",
        "xbow3 = wei @ x\n",
        "# torch.allclose(xbow, xbow3)\n",
        "torch.allclose(xbow, xbow3, rtol=1e-04, atol=1e-06)\n",
        "\n"
      ],
      "metadata": {
        "colab": {
          "base_uri": "https://localhost:8080/"
        },
        "id": "_lnRznMAMQzH",
        "outputId": "414be988-214a-4ede-9f25-86b727bf3d69"
      },
      "execution_count": null,
      "outputs": [
        {
          "output_type": "execute_result",
          "data": {
            "text/plain": [
              "True"
            ]
          },
          "metadata": {},
          "execution_count": 13
        }
      ]
    },
    {
      "cell_type": "markdown",
      "source": [
        "## Making some small changes to the script"
      ],
      "metadata": {
        "id": "H2298Y-RPOBu"
      }
    },
    {
      "cell_type": "code",
      "source": [
        "\"\"\" Changes:\n",
        "  -> remove vocab size from the BigramLanguageModel constructor as it is already defined.\n",
        "  -> Introducing a new variable n_embd: short for number of embedding dimensions\n",
        "\"\"\"\n",
        "import torch\n",
        "import torch.nn as nn\n",
        "from torch.nn import functional as F\n",
        "\n",
        "# Hyperparameters\n",
        "batch_size = 16 # how many independent sequences will we process in\n",
        "block_size = 32 # maximum context length for\n",
        "max_iters = 5000\n",
        "eval_interval = 100\n",
        "learning_rate = 1e-3\n",
        "device = 'cuda' if torch.cuda.is_available() else 'cpu'\n",
        "eval_iters = 200\n",
        "n_embd = 32 # number of embedding dimensions\n",
        "\n",
        "#__________________________________________________________________________\n",
        "\n",
        "torch.manual_seed(1336)\n",
        "with open('input.txt', 'r', encoding='utf-8') as f:\n",
        "    text = f.read()\n",
        "\n",
        "# Here we are trying to create a character level language\n",
        "chars = sorted(list(set(text)))\n",
        "vocab_size = len(chars)\n",
        "\n",
        "# Create mapping from characters to integers\n",
        "stoi = {ch: i for i, ch in enumerate(chars)}\n",
        "itos = {i: ch for i, ch in enumerate(chars)}\n",
        "encode = lambda s: [stoi[c] for c in s]\n",
        "\n",
        "decode = lambda l: ''.join([itos[i] for i in l])\n",
        "\n",
        "# train test split\n",
        "data = torch.tensor(encode(text), dtype=torch.long)\n",
        "n = int(0.9 * len(data))\n",
        "train_data = data[:n]\n",
        "val_data = data[n:]\n",
        "\n",
        "# Data loading\n",
        "def get_batch(split):\n",
        "  # Generate small batches of data of inputs x and y\n",
        "  data = train_data if split == 'train' else val_data\n",
        "  ix = torch.randint(len(data) - block_size, (batch_size,))\n",
        "  x = torch.stack([data[i:i+block_size] for i in ix])\n",
        "  y = torch.stack([data[i+1:i+block_size+1] for i in ix])\n",
        "\n",
        "  # This is being done to push the tensors onto the GPU to accelerate training\n",
        "  x, y = x.to(device), y.to(device)\n",
        "\n",
        "  return x, y\n",
        "\n",
        "\n",
        "#This is basically to optimize pytorch. It tells that whatever intermediate\n",
        "# variables are created, don't store them, coz we're never gonna call backwards\n",
        "@torch.no_grad()\n",
        "def estimate_loss():\n",
        "  out = {}\n",
        "  model.eval()\n",
        "  for split in ['train', 'val']:\n",
        "    losses = torch.zeros(eval_iters)\n",
        "    for k in range(eval_iters):\n",
        "      X, Y = get_batch(split)\n",
        "      logits, loss = model(X, Y)\n",
        "      losses[k] = loss.item()\n",
        "    out[split] = losses.mean()\n",
        "  model.train()\n",
        "  return out\n",
        "\n",
        "\n",
        "# _______________________________________________________________________________________\n",
        "\n",
        "# The bigram language model\n",
        "class BigramLanguageModel(nn.Module):\n",
        "  def __init__(self):\n",
        "    super().__init__()\n",
        "    # each token directly reads from the logits for the next token from the lookup table\n",
        "    self.token_embedding_table = nn.Embedding(vocab_size, n_embd)\n",
        "    self.lm_head = nn.Linear(n_embd, vocab_size) # This layer is used to go from token embeddings to the logits\n",
        "    # LM_head stands for language model head\n",
        "\n",
        "    # Now we create a provision to use positional embeddings along with the embeddings of the token identities (token_embeddings)\n",
        "    # self.position_embedding_table = nn.Embedding(block_size, n_embd) # each position from 0 to block size would also get it's own vector\n",
        "\n",
        "\n",
        "  def forward(self, idx, targets=None):\n",
        "    B, T = idx.shape\n",
        "\n",
        "\n",
        "    # idx and targets are both (B, T) tensor of integers\n",
        "    # When we replace the vocab size with n_embd, it wouldn't give us logits directly, but rather token embeddings\n",
        "    tok_emb = self.token_embedding_table(idx) # (B, T, C)\n",
        "    # pos_embedding = self.position_embedding_table(torch.arange(T, device=device)) # (T, C) | torch.arange gives integers from 0 to T-1\n",
        "    # x = tok_emb + pos_embedding # (B, T, C) TODO: Check working. the lower dimensional vector (T, C) gets right aligned and another col is added to perform the operation\n",
        "    logits = self.lm_head(tok_emb) # (B, T, vocab_size())\n",
        "\n",
        "    if targets is None:\n",
        "      loss = None\n",
        "    else:\n",
        "      B, T, C = logits.shape\n",
        "      logits = logits.view(B*T, C)\n",
        "      targets = targets.view(B*T)\n",
        "      loss = F.cross_entropy(logits, targets)\n",
        "    return logits, loss\n",
        "\n",
        "  def generate(self, idx, max_new_tokens):\n",
        "    # idx is (B, T) array of indices in the current\n",
        "    for _ in range(max_new_tokens):\n",
        "      # get the prediction\n",
        "      logits, loss = self(idx)\n",
        "      # Focus only on the last time step\n",
        "      logits = logits[:, -1, :] # becomes (B, C)\n",
        "      # Apply softmax to get probabilities\n",
        "      # Introduce a small value (epsilon) to add to the logits before softmax\n",
        "      epsilon = 1e-6\n",
        "      probs = F.softmax(logits + epsilon, dim=-1) # (B, C)\n",
        "      idx_next = torch.multinomial(probs, num_samples=1) # (B, 1)\n",
        "      # sample from the distribution\n",
        "      probs = F.softmax(logits, dim=-1) # (B, C)\n",
        "\n",
        "      # Applied sampled index to the running sequence\n",
        "      idx = torch.cat((idx, idx_next), dim=1) # (B, T+1)\n",
        "    return idx\n",
        "\n",
        "# _____________________________________________________________________________\n",
        "\n",
        "# Create model\n",
        "model = BigramLanguageModel()\n",
        "m = model.to(device)\n",
        "\n",
        "# Create pytorch optimizer\n",
        "optimizer = torch.optim.AdamW(model.parameters(), lr=learning_rate)\n",
        "\n",
        "for iter in range(max_iters):\n",
        "  # every once in a while evaluate the loss on train and val sets\n",
        "  if iter % eval_interval == 0:\n",
        "    losses = estimate_loss()\n",
        "    print(f\"step {iter}: train loss {losses['train']:.4f}, val loss {losses['val']:.4f}\")\n",
        "  xb, yb = get_batch('train')\n",
        "  # evaluate the loss\n",
        "  logits, loss = model(xb, yb)\n",
        "  optimizer.zero_grad(set_to_none=True)\n",
        "  loss.backward()\n",
        "  optimizer.step()\n",
        "\n",
        "# Generate from the model\n",
        "context = torch.zeros((1, 1), dtype=torch.long, device=device)\n",
        "print(decode(m.generate(context, max_new_tokens=1000)[0].tolist()))\n",
        "\n"
      ],
      "metadata": {
        "colab": {
          "base_uri": "https://localhost:8080/"
        },
        "id": "4Dn6ubgLb4pJ",
        "outputId": "8d552f2c-f5d9-419c-b002-de67e1e58651"
      },
      "execution_count": null,
      "outputs": [
        {
          "output_type": "stream",
          "name": "stdout",
          "text": [
            "step 0: train loss 4.3797, val loss 4.3634\n",
            "step 100: train loss 3.5072, val loss 3.5054\n",
            "step 200: train loss 3.0373, val loss 3.0381\n",
            "step 300: train loss 2.8189, val loss 2.8195\n",
            "step 400: train loss 2.7122, val loss 2.7211\n",
            "step 500: train loss 2.6485, val loss 2.6498\n",
            "step 600: train loss 2.6063, val loss 2.6238\n",
            "step 700: train loss 2.5839, val loss 2.5861\n",
            "step 800: train loss 2.5690, val loss 2.5772\n",
            "step 900: train loss 2.5456, val loss 2.5653\n",
            "step 1000: train loss 2.5300, val loss 2.5446\n",
            "step 1100: train loss 2.5272, val loss 2.5370\n",
            "step 1200: train loss 2.5156, val loss 2.5309\n",
            "step 1300: train loss 2.5094, val loss 2.5161\n",
            "step 1400: train loss 2.5146, val loss 2.5175\n",
            "step 1500: train loss 2.5019, val loss 2.5209\n",
            "step 1600: train loss 2.5077, val loss 2.5130\n",
            "step 1700: train loss 2.4954, val loss 2.5114\n",
            "step 1800: train loss 2.4934, val loss 2.5107\n",
            "step 1900: train loss 2.4866, val loss 2.5067\n",
            "step 2000: train loss 2.4887, val loss 2.5094\n",
            "step 2100: train loss 2.4894, val loss 2.5096\n",
            "step 2200: train loss 2.4852, val loss 2.5031\n",
            "step 2300: train loss 2.4832, val loss 2.5115\n",
            "step 2400: train loss 2.4860, val loss 2.4938\n",
            "step 2500: train loss 2.4854, val loss 2.5069\n",
            "step 2600: train loss 2.4815, val loss 2.4966\n",
            "step 2700: train loss 2.4758, val loss 2.4959\n",
            "step 2800: train loss 2.4748, val loss 2.4972\n",
            "step 2900: train loss 2.4806, val loss 2.4927\n",
            "step 3000: train loss 2.4771, val loss 2.5036\n",
            "step 3100: train loss 2.4751, val loss 2.4954\n",
            "step 3200: train loss 2.4711, val loss 2.4958\n",
            "step 3300: train loss 2.4732, val loss 2.5009\n",
            "step 3400: train loss 2.4715, val loss 2.4986\n",
            "step 3500: train loss 2.4755, val loss 2.4958\n",
            "step 3600: train loss 2.4687, val loss 2.4988\n",
            "step 3700: train loss 2.4763, val loss 2.4952\n",
            "step 3800: train loss 2.4712, val loss 2.4901\n",
            "step 3900: train loss 2.4648, val loss 2.4957\n",
            "step 4000: train loss 2.4713, val loss 2.4984\n",
            "step 4100: train loss 2.4676, val loss 2.4937\n",
            "step 4200: train loss 2.4727, val loss 2.4968\n",
            "step 4300: train loss 2.4708, val loss 2.4946\n",
            "step 4400: train loss 2.4707, val loss 2.4900\n",
            "step 4500: train loss 2.4670, val loss 2.4970\n",
            "step 4600: train loss 2.4669, val loss 2.4926\n",
            "step 4700: train loss 2.4695, val loss 2.4935\n",
            "step 4800: train loss 2.4654, val loss 2.4918\n",
            "step 4900: train loss 2.4645, val loss 2.4912\n",
            "\n",
            "\n",
            "ADWAn, tore wins oouyoreowe ee, aved tonde freame f Ifomes dsom Ithed ailowe hale;\n",
            "WINoomedr blldait-Foanses\n",
            "Tifree;\n",
            "ARLInd\n",
            "R I'd m, fesetird? onsto l an. l n ct, ay go th bu ar sts d?\n",
            "Mase we, mere t g hy &sthan\n",
            "UCEFincetok lisin, s ENCly the ws nouctosntharo s clis un ofofathayo seres h n.\n",
            "O:\n",
            "WAtyosING.\n",
            "ARWale womat E pod tas.\n",
            "Whorthe s othentoure an, twel d f l r wilou kne IZAROMESaitherd ad heelyoman onthatampitoden pr sto s avimeloforil-mue tha acier'cte alo Pavtimcu me bbe miel; mann s ge mbust to tapilvece ert t, bowe, Jut d, fo ulll betil, s shirill, ard brs; bund andonthaty aithesup:REThaceruatha jues!\n",
            "SS: RLAno JUEeneney grenonorathewiso,\n",
            "Faleean d ucan byoravee ndo man.\n",
            "AFou t, fenerinel, tourithe wispr--jutourarae ouemystheals t thofact?\n",
            "So mosp torderyovencousthis s pody se?\n",
            "Sto the mertoRo'ssinlangheandintond-\n",
            "WHPds? w se l hincow'd tthe er I winorereadounce.\n",
            "I t orghacfely tld se VI R:\n",
            "\n",
            "S:\n",
            "Honsthat tenchey gh at, f me we t scher ade, BUCeroug we bom IZAncl CHaleroowiche\n"
          ]
        }
      ]
    },
    {
      "cell_type": "markdown",
      "source": [
        "## There is an error while implementing positional encodings"
      ],
      "metadata": {
        "id": "OQdc6UT3cb8-"
      }
    },
    {
      "cell_type": "code",
      "source": [
        "\"\"\" Changes:\n",
        "  -> remove vocab size from the BigramLanguageModel constructor as it is already defined.\n",
        "  -> Introducing a new variable n_embd: short for number of embedding dimensions\n",
        "\"\"\"\n",
        "import torch\n",
        "import torch.nn as nn\n",
        "from torch.nn import functional as F\n",
        "\n",
        "# Hyperparameters\n",
        "batch_size = 16 # how many independent sequences will we process in\n",
        "block_size = 32 # maximum context length for\n",
        "max_iters = 5000\n",
        "eval_interval = 100\n",
        "learning_rate = 1e-3\n",
        "device = 'cuda' if torch.cuda.is_available() else 'cpu'\n",
        "eval_iters = 200\n",
        "n_embd = 32 # number of embedding dimensions\n",
        "\n",
        "#__________________________________________________________________________\n",
        "\n",
        "torch.manual_seed(137)\n",
        "with open('input.txt', 'r', encoding='utf-8') as f:\n",
        "    text = f.read()\n",
        "\n",
        "# Here we are trying to create a character level language\n",
        "chars = sorted(list(set(text)))\n",
        "vocab_size = len(chars)\n",
        "\n",
        "# Create mapping from characters to integers\n",
        "stoi = {ch: i for i, ch in enumerate(chars)}\n",
        "itos = {i: ch for i, ch in enumerate(chars)}\n",
        "encode = lambda s: [stoi[c] for c in s]\n",
        "\n",
        "decode = lambda l: ''.join([itos[i] for i in l])\n",
        "\n",
        "# train test split\n",
        "data = torch.tensor(encode(text), dtype=torch.long)\n",
        "n = int(0.9 * len(data))\n",
        "train_data = data[:n]\n",
        "val_data = data[n:]\n",
        "\n",
        "# Data loading\n",
        "def get_batch(split):\n",
        "  # Generate small batches of data of inputs x and y\n",
        "  data = train_data if split == 'train' else val_data\n",
        "  ix = torch.randint(len(data) - block_size, (batch_size,))\n",
        "  x = torch.stack([data[i:i+block_size] for i in ix])\n",
        "  y = torch.stack([data[i+1:i+block_size+1] for i in ix])\n",
        "\n",
        "  # This is being done to push the tensors onto the GPU to accelerate training\n",
        "  x, y = x.to(device), y.to(device)\n",
        "\n",
        "  return x, y\n",
        "\n",
        "\n",
        "#This is basically to optimize pytorch. It tells that whatever intermediate\n",
        "# variables are created, don't store them, coz we're never gonna call backwards\n",
        "@torch.no_grad()\n",
        "def estimate_loss():\n",
        "  out = {}\n",
        "  model.eval()\n",
        "  for split in ['train', 'val']:\n",
        "    losses = torch.zeros(eval_iters)\n",
        "    for k in range(eval_iters):\n",
        "      X, Y = get_batch(split)\n",
        "      logits, loss = model(X, Y)\n",
        "      losses[k] = loss.item()\n",
        "    out[split] = losses.mean()\n",
        "  model.train()\n",
        "  return out\n",
        "\n",
        "\n",
        "# _______________________________________________________________________________________\n",
        "\n",
        "# The bigram language model\n",
        "class BigramLanguageModel(nn.Module):\n",
        "  def __init__(self):\n",
        "    super().__init__()\n",
        "    # each token directly reads from the logits for the next token from the lookup table\n",
        "    self.token_embedding_table = nn.Embedding(vocab_size, n_embd)\n",
        "    self.lm_head = nn.Linear(n_embd, vocab_size) # This layer is used to go from token embeddings to the logits\n",
        "    # LM_head stands for language model head\n",
        "\n",
        "    # Now we create a provision to use positional embeddings along with the embeddings of the token identities (token_embeddings)\n",
        "    self.position_embedding_table = nn.Embedding(block_size, n_embd) # each position from 0 to block size would also get it's own vector\n",
        "\n",
        "\n",
        "  def forward(self, idx, targets=None):\n",
        "    B, T = idx.shape\n",
        "\n",
        "\n",
        "    # idx and targets are both (B, T) tensor of integers\n",
        "    # When we replace the vocab size with n_embd, it wouldn't give us logits directly, but rather token embeddings\n",
        "    tok_emb = self.token_embedding_table(idx) # (B, T, C)\n",
        "    pos_embedding = self.position_embedding_table(torch.arange(T, device=device)) # (T, C) | torch.arange gives integers from 0 to T-1\n",
        "    x = tok_emb + pos_embedding # (B, T, C) TODO: Check working. the lower dimensional vector (T, C) gets right aligned and another col is added to perform the operation\n",
        "    logits = self.lm_head(x) # (B, T, vocab_size())\n",
        "\n",
        "    if targets is None:\n",
        "      loss = None\n",
        "    else:\n",
        "      B, T, C = logits.shape\n",
        "      logits = logits.view(B*T, C)\n",
        "      targets = targets.view(B*T)\n",
        "      loss = F.cross_entropy(logits, targets)\n",
        "    return logits, loss\n",
        "\n",
        "  def generate(self, idx, max_new_tokens):\n",
        "    # idx is (B, T) array of indices in the current\n",
        "    for _ in range(max_new_tokens):\n",
        "      # get the prediction\n",
        "      logits, loss = self(idx)\n",
        "      # Focus only on the last time step\n",
        "      logits = logits[:, -1, :] # becomes (B, C)\n",
        "      # Apply softmax to get probabilities\n",
        "      # Introduce a small value (epsilon) to add to the logits before softmax\n",
        "      epsilon = 1e-6\n",
        "      probs = F.softmax(logits + epsilon, dim=-1) # (B, C)\n",
        "      idx_next = torch.multinomial(probs, num_samples=1) # (B, 1)\n",
        "      # sample from the distribution\n",
        "      probs = F.softmax(logits, dim=-1) # (B, C)\n",
        "\n",
        "      # Applied sampled index to the running sequence\n",
        "      idx = torch.cat((idx, idx_next), dim=1) # (B, T+1)\n",
        "    return idx\n",
        "\n",
        "# _____________________________________________________________________________\n",
        "\n",
        "# Create model\n",
        "model = BigramLanguageModel()\n",
        "m = model.to(device)\n",
        "\n",
        "# Create pytorch optimizer\n",
        "optimizer = torch.optim.AdamW(model.parameters(), lr=learning_rate)\n",
        "\n",
        "for iter in range(max_iters):\n",
        "  # every once in a while evaluate the loss on train and val sets\n",
        "  if iter % eval_interval == 0:\n",
        "    losses = estimate_loss()\n",
        "    print(f\"step {iter}: train loss {losses['train']:.4f}, val loss {losses['val']:.4f}\")\n",
        "  xb, yb = get_batch('train')\n",
        "  # evaluate the loss\n",
        "  logits, loss = model(xb, yb)\n",
        "  optimizer.zero_grad(set_to_none=True)\n",
        "  loss.backward()\n",
        "  optimizer.step()\n",
        "\n",
        "# Generate from the model\n",
        "context = torch.zeros((1, 1), dtype=torch.long, device=device)\n",
        "print(decode(m.generate(context, max_new_tokens=1000)[0].tolist()))\n",
        "\n"
      ],
      "metadata": {
        "colab": {
          "base_uri": "https://localhost:8080/",
          "height": 1000
        },
        "id": "FXP0cIUAPQLK",
        "outputId": "1bbfecde-2c64-44cd-95ef-c092c28a6c67"
      },
      "execution_count": null,
      "outputs": [
        {
          "output_type": "stream",
          "name": "stdout",
          "text": [
            "step 0: train loss 4.5478, val loss 4.5503\n",
            "step 100: train loss 3.5436, val loss 3.5492\n",
            "step 200: train loss 3.0673, val loss 3.0798\n",
            "step 300: train loss 2.8837, val loss 2.9120\n",
            "step 400: train loss 2.7939, val loss 2.8095\n",
            "step 500: train loss 2.7232, val loss 2.7400\n",
            "step 600: train loss 2.6854, val loss 2.6863\n",
            "step 700: train loss 2.6521, val loss 2.6619\n",
            "step 800: train loss 2.6289, val loss 2.6468\n",
            "step 900: train loss 2.6177, val loss 2.6160\n",
            "step 1000: train loss 2.5881, val loss 2.6035\n",
            "step 1100: train loss 2.5865, val loss 2.5923\n",
            "step 1200: train loss 2.5792, val loss 2.5805\n",
            "step 1300: train loss 2.5663, val loss 2.5784\n",
            "step 1400: train loss 2.5477, val loss 2.5668\n",
            "step 1500: train loss 2.5484, val loss 2.5535\n",
            "step 1600: train loss 2.5387, val loss 2.5541\n",
            "step 1700: train loss 2.5345, val loss 2.5466\n",
            "step 1800: train loss 2.5281, val loss 2.5423\n",
            "step 1900: train loss 2.5203, val loss 2.5392\n",
            "step 2000: train loss 2.5225, val loss 2.5354\n",
            "step 2100: train loss 2.5226, val loss 2.5315\n",
            "step 2200: train loss 2.5075, val loss 2.5341\n",
            "step 2300: train loss 2.5145, val loss 2.5268\n",
            "step 2400: train loss 2.5070, val loss 2.5255\n",
            "step 2500: train loss 2.5019, val loss 2.5207\n",
            "step 2600: train loss 2.5023, val loss 2.5175\n",
            "step 2700: train loss 2.5100, val loss 2.5176\n",
            "step 2800: train loss 2.5039, val loss 2.5189\n",
            "step 2900: train loss 2.4969, val loss 2.5115\n",
            "step 3000: train loss 2.4893, val loss 2.5150\n",
            "step 3100: train loss 2.4971, val loss 2.5096\n",
            "step 3200: train loss 2.4972, val loss 2.5036\n",
            "step 3300: train loss 2.4951, val loss 2.5089\n",
            "step 3400: train loss 2.5002, val loss 2.5048\n",
            "step 3500: train loss 2.4845, val loss 2.5026\n",
            "step 3600: train loss 2.4902, val loss 2.5025\n",
            "step 3700: train loss 2.4889, val loss 2.5009\n",
            "step 3800: train loss 2.4922, val loss 2.5127\n",
            "step 3900: train loss 2.4940, val loss 2.5084\n",
            "step 4000: train loss 2.4922, val loss 2.5059\n",
            "step 4100: train loss 2.4873, val loss 2.5043\n",
            "step 4200: train loss 2.4897, val loss 2.5058\n",
            "step 4300: train loss 2.4856, val loss 2.5023\n",
            "step 4400: train loss 2.4914, val loss 2.4976\n",
            "step 4500: train loss 2.4799, val loss 2.5065\n",
            "step 4600: train loss 2.4875, val loss 2.5040\n",
            "step 4700: train loss 2.4816, val loss 2.5023\n",
            "step 4800: train loss 2.4809, val loss 2.5031\n",
            "step 4900: train loss 2.4777, val loss 2.4949\n"
          ]
        },
        {
          "output_type": "error",
          "ename": "RuntimeError",
          "evalue": "CUDA error: device-side assert triggered\nCUDA kernel errors might be asynchronously reported at some other API call, so the stacktrace below might be incorrect.\nFor debugging consider passing CUDA_LAUNCH_BLOCKING=1\nCompile with `TORCH_USE_CUDA_DSA` to enable device-side assertions.\n",
          "traceback": [
            "\u001b[0;31m---------------------------------------------------------------------------\u001b[0m",
            "\u001b[0;31mRuntimeError\u001b[0m                              Traceback (most recent call last)",
            "\u001b[0;32m<ipython-input-4-fb1ab102701d>\u001b[0m in \u001b[0;36m<cell line: 150>\u001b[0;34m()\u001b[0m\n\u001b[1;32m    148\u001b[0m \u001b[0;31m# Generate from the model\u001b[0m\u001b[0;34m\u001b[0m\u001b[0;34m\u001b[0m\u001b[0m\n\u001b[1;32m    149\u001b[0m \u001b[0mcontext\u001b[0m \u001b[0;34m=\u001b[0m \u001b[0mtorch\u001b[0m\u001b[0;34m.\u001b[0m\u001b[0mzeros\u001b[0m\u001b[0;34m(\u001b[0m\u001b[0;34m(\u001b[0m\u001b[0;36m1\u001b[0m\u001b[0;34m,\u001b[0m \u001b[0;36m1\u001b[0m\u001b[0;34m)\u001b[0m\u001b[0;34m,\u001b[0m \u001b[0mdtype\u001b[0m\u001b[0;34m=\u001b[0m\u001b[0mtorch\u001b[0m\u001b[0;34m.\u001b[0m\u001b[0mlong\u001b[0m\u001b[0;34m,\u001b[0m \u001b[0mdevice\u001b[0m\u001b[0;34m=\u001b[0m\u001b[0mdevice\u001b[0m\u001b[0;34m)\u001b[0m\u001b[0;34m\u001b[0m\u001b[0;34m\u001b[0m\u001b[0m\n\u001b[0;32m--> 150\u001b[0;31m \u001b[0mprint\u001b[0m\u001b[0;34m(\u001b[0m\u001b[0mdecode\u001b[0m\u001b[0;34m(\u001b[0m\u001b[0mm\u001b[0m\u001b[0;34m.\u001b[0m\u001b[0mgenerate\u001b[0m\u001b[0;34m(\u001b[0m\u001b[0mcontext\u001b[0m\u001b[0;34m,\u001b[0m \u001b[0mmax_new_tokens\u001b[0m\u001b[0;34m=\u001b[0m\u001b[0;36m1000\u001b[0m\u001b[0;34m)\u001b[0m\u001b[0;34m[\u001b[0m\u001b[0;36m0\u001b[0m\u001b[0;34m]\u001b[0m\u001b[0;34m.\u001b[0m\u001b[0mtolist\u001b[0m\u001b[0;34m(\u001b[0m\u001b[0;34m)\u001b[0m\u001b[0;34m)\u001b[0m\u001b[0;34m)\u001b[0m\u001b[0;34m\u001b[0m\u001b[0;34m\u001b[0m\u001b[0m\n\u001b[0m\u001b[1;32m    151\u001b[0m \u001b[0;34m\u001b[0m\u001b[0m\n",
            "\u001b[0;32m<ipython-input-4-fb1ab102701d>\u001b[0m in \u001b[0;36mgenerate\u001b[0;34m(self, idx, max_new_tokens)\u001b[0m\n\u001b[1;32m    117\u001b[0m       \u001b[0mepsilon\u001b[0m \u001b[0;34m=\u001b[0m \u001b[0;36m1e-6\u001b[0m\u001b[0;34m\u001b[0m\u001b[0;34m\u001b[0m\u001b[0m\n\u001b[1;32m    118\u001b[0m       \u001b[0mprobs\u001b[0m \u001b[0;34m=\u001b[0m \u001b[0mF\u001b[0m\u001b[0;34m.\u001b[0m\u001b[0msoftmax\u001b[0m\u001b[0;34m(\u001b[0m\u001b[0mlogits\u001b[0m \u001b[0;34m+\u001b[0m \u001b[0mepsilon\u001b[0m\u001b[0;34m,\u001b[0m \u001b[0mdim\u001b[0m\u001b[0;34m=\u001b[0m\u001b[0;34m-\u001b[0m\u001b[0;36m1\u001b[0m\u001b[0;34m)\u001b[0m \u001b[0;31m# (B, C)\u001b[0m\u001b[0;34m\u001b[0m\u001b[0;34m\u001b[0m\u001b[0m\n\u001b[0;32m--> 119\u001b[0;31m       \u001b[0midx_next\u001b[0m \u001b[0;34m=\u001b[0m \u001b[0mtorch\u001b[0m\u001b[0;34m.\u001b[0m\u001b[0mmultinomial\u001b[0m\u001b[0;34m(\u001b[0m\u001b[0mprobs\u001b[0m\u001b[0;34m,\u001b[0m \u001b[0mnum_samples\u001b[0m\u001b[0;34m=\u001b[0m\u001b[0;36m1\u001b[0m\u001b[0;34m)\u001b[0m \u001b[0;31m# (B, 1)\u001b[0m\u001b[0;34m\u001b[0m\u001b[0;34m\u001b[0m\u001b[0m\n\u001b[0m\u001b[1;32m    120\u001b[0m       \u001b[0;31m# sample from the distribution\u001b[0m\u001b[0;34m\u001b[0m\u001b[0;34m\u001b[0m\u001b[0m\n\u001b[1;32m    121\u001b[0m       \u001b[0mprobs\u001b[0m \u001b[0;34m=\u001b[0m \u001b[0mF\u001b[0m\u001b[0;34m.\u001b[0m\u001b[0msoftmax\u001b[0m\u001b[0;34m(\u001b[0m\u001b[0mlogits\u001b[0m\u001b[0;34m,\u001b[0m \u001b[0mdim\u001b[0m\u001b[0;34m=\u001b[0m\u001b[0;34m-\u001b[0m\u001b[0;36m1\u001b[0m\u001b[0;34m)\u001b[0m \u001b[0;31m# (B, C)\u001b[0m\u001b[0;34m\u001b[0m\u001b[0;34m\u001b[0m\u001b[0m\n",
            "\u001b[0;31mRuntimeError\u001b[0m: CUDA error: device-side assert triggered\nCUDA kernel errors might be asynchronously reported at some other API call, so the stacktrace below might be incorrect.\nFor debugging consider passing CUDA_LAUNCH_BLOCKING=1\nCompile with `TORCH_USE_CUDA_DSA` to enable device-side assertions.\n"
          ]
        }
      ]
    },
    {
      "cell_type": "markdown",
      "source": [
        "## Self Attention Logic"
      ],
      "metadata": {
        "id": "3wGj0-IecisK"
      }
    },
    {
      "cell_type": "markdown",
      "source": [
        "We are implementing self attention for a single individual head\n",
        "using: B, T, C = 4, 8, 32\n",
        "\n",
        "we have a 4x8 arrangement of tokens and info on each token is 32 dimensional.\n",
        "\n",
        "The code we had before did a simple average of all the past tokens and the current token. So the previous info and the current info is being mixed together in an average. (We are masking out the wei matrix)\n",
        "\n",
        "Each number in the previous matrices we developed represented the affinities of each token with one another, which we had uniformly initialized.\n",
        "\n",
        "- Now we don't want to initialize the affinities to be uniform as different tokens would find other tokens more or less interesting\n",
        "\n",
        "- So the problem that self attention solves is that it allows us to gather info from the past in a data dependant way (Need More explanation on this)\n",
        "\n",
        "- The way self attention solves this:\n",
        "  - every single token/node at each position produces 2 vectors: Query(Q) and Key(K)\n",
        "    - Query: What am I looking for?\n",
        "    - Key: What do I contain?\n",
        "  - To get the affinities between these sequenced tokens, we do: Q.K = wei\n",
        "\n",
        "\n"
      ],
      "metadata": {
        "id": "ZnfpxOj8dOpb"
      }
    },
    {
      "cell_type": "code",
      "source": [
        "# version 4: self-attention!\n",
        "torch.manual_seed(1337)\n",
        "B,T,C = 4,8,32 # batch, time, channels\n",
        "x = torch.randn(B,T,C) # contains the private info for each token. We have randomized it in this case for understanding\n",
        "\n",
        "# Creating a single head for self attention\n",
        "head_size = 16\n",
        "key = nn.Linear(C, head_size, bias=False) # bias false just makes it apply simple matrix multiplication with it's weights\n",
        "query = nn.Linear(C, head_size, bias=False)\n",
        "value = nn.Linear(C, head_size, bias=False)\n",
        "\n",
        "k = key(x)   # (B, T, 16) 16 is the head size\n",
        "q = query(x) # (B, T, 16)\n",
        "wei =  q @ k.transpose(-2, -1) # Transposing the last two dimensions: Tx16 becomes 16xT ==> (B, T, 16) @ (B, 16, T) ---> (B, T, T)\n",
        "# For every row B, we are now gonna have a T^2 matrix representing the affinities\n",
        "\n",
        "tril = torch.tril(torch.ones(T, T))\n",
        "#wei = torch.zeros((T,T))\n",
        "\n",
        "# Till here, wei only contains raw affinities between each token and the others.\n",
        "wei = wei.masked_fill(tril == 0, float('-inf'))\n",
        "\n",
        "# # The reason for doing the triangular matrix above is that if I'm from the 6th node/token, I don't want any information about the 7th, 8th .... nodes, coz they're in the future, I'm\n",
        "# # learning from the present and past. The upper triangular matrix does that for us\n",
        "\n",
        "\n",
        "wei = F.softmax(wei, dim=-1)\n",
        "# Softmax helps us to exponentiate and divide by the sum => normalizing the data to be between 0 and 1\n",
        "v = value(x)\n",
        "\n",
        "# Understand the relation between v and x.\n",
        "out = wei @ v # is used to modify the output channels\n",
        "\n",
        "out.shape"
      ],
      "metadata": {
        "colab": {
          "base_uri": "https://localhost:8080/"
        },
        "id": "YXAXeucyLaog",
        "outputId": "e8f4c8ff-be87-4daa-8e26-d680bb80b52f"
      },
      "execution_count": 13,
      "outputs": [
        {
          "output_type": "execute_result",
          "data": {
            "text/plain": [
              "torch.Size([4, 8, 16])"
            ]
          },
          "metadata": {},
          "execution_count": 13
        }
      ]
    },
    {
      "cell_type": "code",
      "source": [
        "wei[0] # previously every single batch element had uniform wei, but now, every batch element is different, coz every batch element contains different tokens"
      ],
      "metadata": {
        "id": "fA-YM5DHMjmA",
        "outputId": "b1c59282-0135-47c2-884c-d4688dce93c8",
        "colab": {
          "base_uri": "https://localhost:8080/"
        }
      },
      "execution_count": 14,
      "outputs": [
        {
          "output_type": "execute_result",
          "data": {
            "text/plain": [
              "tensor([[1.0000, 0.0000, 0.0000, 0.0000, 0.0000, 0.0000, 0.0000, 0.0000],\n",
              "        [0.1574, 0.8426, 0.0000, 0.0000, 0.0000, 0.0000, 0.0000, 0.0000],\n",
              "        [0.2088, 0.1646, 0.6266, 0.0000, 0.0000, 0.0000, 0.0000, 0.0000],\n",
              "        [0.5792, 0.1187, 0.1889, 0.1131, 0.0000, 0.0000, 0.0000, 0.0000],\n",
              "        [0.0294, 0.1052, 0.0469, 0.0276, 0.7909, 0.0000, 0.0000, 0.0000],\n",
              "        [0.0176, 0.2689, 0.0215, 0.0089, 0.6812, 0.0019, 0.0000, 0.0000],\n",
              "        [0.1691, 0.4066, 0.0438, 0.0416, 0.1048, 0.2012, 0.0329, 0.0000],\n",
              "        [0.0210, 0.0843, 0.0555, 0.2297, 0.0573, 0.0709, 0.2423, 0.2391]],\n",
              "       grad_fn=<SelectBackward0>)"
            ]
          },
          "metadata": {},
          "execution_count": 14
        }
      ]
    },
    {
      "cell_type": "code",
      "source": [],
      "metadata": {
        "id": "1TvdSA90MleJ"
      },
      "execution_count": null,
      "outputs": []
    }
  ]
}