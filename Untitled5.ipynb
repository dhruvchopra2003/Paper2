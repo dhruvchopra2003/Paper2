{
  "cells": [
    {
      "cell_type": "markdown",
      "metadata": {
        "id": "view-in-github",
        "colab_type": "text"
      },
      "source": [
        "<a href=\"https://colab.research.google.com/github/dhruvchopra2003/Paper2/blob/main/Untitled5.ipynb\" target=\"_parent\"><img src=\"https://colab.research.google.com/assets/colab-badge.svg\" alt=\"Open In Colab\"/></a>"
      ]
    },
    {
      "cell_type": "code",
      "execution_count": 2,
      "metadata": {
        "colab": {
          "base_uri": "https://localhost:8080/"
        },
        "id": "x3YkbSweIEzd",
        "outputId": "1a998eb9-9649-4e86-e015-66bd6cc630b2"
      },
      "outputs": [
        {
          "output_type": "stream",
          "name": "stdout",
          "text": [
            "--2024-08-26 10:24:13--  https://raw.githubusercontent.com/karpathy/char-rnn/master/data/tinyshakespeare/input.txt\n",
            "Resolving raw.githubusercontent.com (raw.githubusercontent.com)... 185.199.111.133, 185.199.109.133, 185.199.110.133, ...\n",
            "Connecting to raw.githubusercontent.com (raw.githubusercontent.com)|185.199.111.133|:443... connected.\n",
            "HTTP request sent, awaiting response... 200 OK\n",
            "Length: 1115394 (1.1M) [text/plain]\n",
            "Saving to: ‘input.txt’\n",
            "\n",
            "input.txt           100%[===================>]   1.06M  --.-KB/s    in 0.05s   \n",
            "\n",
            "2024-08-26 10:24:13 (21.0 MB/s) - ‘input.txt’ saved [1115394/1115394]\n",
            "\n"
          ]
        }
      ],
      "source": [
        "!wget https://raw.githubusercontent.com/karpathy/char-rnn/master/data/tinyshakespeare/input.txt"
      ]
    },
    {
      "cell_type": "code",
      "execution_count": 3,
      "metadata": {
        "id": "qnOdTazdIxKp"
      },
      "outputs": [],
      "source": [
        "with open('input.txt', 'r', encoding='utf-8') as f:\n",
        "    text = f.read()"
      ]
    },
    {
      "cell_type": "code",
      "execution_count": 4,
      "metadata": {
        "colab": {
          "base_uri": "https://localhost:8080/"
        },
        "id": "h9Fgjz8ZJWzm",
        "outputId": "5b32967e-7fb9-4290-99f3-3be4737e454a"
      },
      "outputs": [
        {
          "output_type": "stream",
          "name": "stdout",
          "text": [
            "length of dataset in the text:  1115394\n"
          ]
        }
      ],
      "source": [
        "print(\"length of dataset in the text: \", len(text))"
      ]
    },
    {
      "cell_type": "code",
      "execution_count": 5,
      "metadata": {
        "colab": {
          "base_uri": "https://localhost:8080/"
        },
        "id": "dyFYcW-bJcmu",
        "outputId": "a1f703d7-dbea-4e96-ef14-faf6c19059ed"
      },
      "outputs": [
        {
          "output_type": "stream",
          "name": "stdout",
          "text": [
            "First 1k characters are: First Citizen:\n",
            "Before we proceed any further, hear me speak.\n",
            "\n",
            "All:\n",
            "Speak, speak.\n",
            "\n",
            "First Citizen:\n",
            "You are all resolved rather to die than to famish?\n",
            "\n",
            "All:\n",
            "Resolved. resolved.\n",
            "\n",
            "First Citizen:\n",
            "First, you know Caius Marcius is chief enemy to the people.\n",
            "\n",
            "All:\n",
            "We know't, we know't.\n",
            "\n",
            "First Citizen:\n",
            "Let us kill him, and we'll have corn at our own price.\n",
            "Is't a verdict?\n",
            "\n",
            "All:\n",
            "No more talking on't; let it be done: away, away!\n",
            "\n",
            "Second Citizen:\n",
            "One word, good citizens.\n",
            "\n",
            "First Citizen:\n",
            "We are accounted poor citizens, the patricians good.\n",
            "What authority surfeits on would relieve us: if they\n",
            "would yield us but the superfluity, while it were\n",
            "wholesome, we might guess they relieved us humanely;\n",
            "but they think we are too dear: the leanness that\n",
            "afflicts us, the object of our misery, is as an\n",
            "inventory to particularise their abundance; our\n",
            "sufferance is a gain to them Let us revenge this with\n",
            "our pikes, ere we become rakes: for the gods know I\n",
            "speak this in hunger for bread, not in thirst for revenge.\n",
            "\n",
            "\n"
          ]
        }
      ],
      "source": [
        "print(f\"First 1k characters are: {text[:1000]}\")"
      ]
    },
    {
      "cell_type": "code",
      "execution_count": 6,
      "metadata": {
        "colab": {
          "base_uri": "https://localhost:8080/"
        },
        "id": "PbEALOzfJmJF",
        "outputId": "49c75f25-d20c-4258-9e63-0ec940c95f97"
      },
      "outputs": [
        {
          "output_type": "stream",
          "name": "stdout",
          "text": [
            "\n",
            " !$&',-.3:;?ABCDEFGHIJKLMNOPQRSTUVWXYZabcdefghijklmnopqrstuvwxyz\n",
            "65\n"
          ]
        }
      ],
      "source": [
        "chars = sorted(list(set(text)))\n",
        "vocab_size = len(chars)\n",
        "print(''.join(chars))\n",
        "print(vocab_size)"
      ]
    },
    {
      "cell_type": "code",
      "execution_count": 13,
      "metadata": {
        "colab": {
          "base_uri": "https://localhost:8080/"
        },
        "id": "SlKVa-V4JscM",
        "outputId": "0cfe57ca-8f7b-4257-c6ab-26070b44381c"
      },
      "outputs": [
        {
          "output_type": "stream",
          "name": "stdout",
          "text": [
            "[46, 47, 47, 1, 58, 46, 43, 56, 43]\n",
            "hii there\n"
          ]
        }
      ],
      "source": [
        "# Developing a strategy to tokenise the input text\n",
        "# Converting the vocabulary into some sequence of integers following a certain logic\n",
        "# Here we are trying to create a character level language model, so we are translating characters into integers\n",
        "\n",
        "# Create a mapping from characters to integers\n",
        "stoi = {ch : i for i, ch in enumerate(chars)}\n",
        "itos = {i : ch for i, ch in enumerate(chars)}\n",
        "\n",
        "encode = lambda s: [stoi[c] for c in s] # Encoder: Takes a string outputs a list of integers\n",
        "decode = lambda l: ''.join([itos[i] for i in l]) # Decoder: Takes list of integers outputs a string\n",
        "\n",
        "print(encode(\"hii there\"))\n",
        "print(decode(encode(\"hii there\")))\n"
      ]
    },
    {
      "cell_type": "code",
      "execution_count": 14,
      "metadata": {
        "colab": {
          "base_uri": "https://localhost:8080/",
          "height": 53
        },
        "id": "eXS07U4TK7t4",
        "outputId": "a0bc647f-37b8-4ffd-b88f-2826812171d9"
      },
      "outputs": [
        {
          "output_type": "execute_result",
          "data": {
            "text/plain": [
              "'\\nThere are different types of tokenizers:\\n- google uses sentencePeice: a sub word tokenizer\\n- Openai uses the Tiktoken library, uses BPE: Byte pair encoding tokenizer ( used by GPT )\\n'"
            ],
            "application/vnd.google.colaboratory.intrinsic+json": {
              "type": "string"
            }
          },
          "metadata": {},
          "execution_count": 14
        }
      ],
      "source": [
        "\"\"\"\n",
        "There are different types of tokenizers:\n",
        "- google uses sentencePeice: a sub word tokenizer\n",
        "- Openai uses the Tiktoken library, uses BPE: Byte pair encoding tokenizer ( used by GPT )\n",
        "\"\"\""
      ]
    },
    {
      "cell_type": "code",
      "execution_count": 15,
      "metadata": {
        "colab": {
          "base_uri": "https://localhost:8080/"
        },
        "id": "zOXDFZpGKxq0",
        "outputId": "17c18218-5a63-40f5-eaad-2fa352b148fe"
      },
      "outputs": [
        {
          "output_type": "stream",
          "name": "stdout",
          "text": [
            "torch.Size([1115394]) torch.int64\n",
            "tensor([18, 47, 56, 57, 58,  1, 15, 47, 58, 47, 64, 43, 52, 10,  0, 14, 43, 44,\n",
            "        53, 56, 43,  1, 61, 43,  1, 54, 56, 53, 41, 43, 43, 42,  1, 39, 52, 63,\n",
            "         1, 44, 59, 56, 58, 46, 43, 56,  6,  1, 46, 43, 39, 56,  1, 51, 43,  1,\n",
            "        57, 54, 43, 39, 49,  8,  0,  0, 13, 50, 50, 10,  0, 31, 54, 43, 39, 49,\n",
            "         6,  1, 57, 54, 43, 39, 49,  8,  0,  0, 18, 47, 56, 57, 58,  1, 15, 47,\n",
            "        58, 47, 64, 43, 52, 10,  0, 37, 53, 59,  1, 39, 56, 43,  1, 39, 50, 50,\n",
            "         1, 56, 43, 57, 53, 50, 60, 43, 42,  1, 56, 39, 58, 46, 43, 56,  1, 58,\n",
            "        53,  1, 42, 47, 43,  1, 58, 46, 39, 52,  1, 58, 53,  1, 44, 39, 51, 47,\n",
            "        57, 46, 12,  0,  0, 13, 50, 50, 10,  0, 30, 43, 57, 53, 50, 60, 43, 42,\n",
            "         8,  1, 56, 43, 57, 53, 50, 60, 43, 42,  8,  0,  0, 18, 47, 56, 57, 58,\n",
            "         1, 15, 47, 58, 47, 64, 43, 52, 10,  0, 18, 47, 56, 57, 58,  6,  1, 63,\n",
            "        53, 59,  1, 49, 52, 53, 61,  1, 15, 39, 47, 59, 57,  1, 25, 39, 56, 41,\n",
            "        47, 59, 57,  1, 47, 57,  1, 41, 46, 47, 43, 44,  1, 43, 52, 43, 51, 63,\n",
            "         1, 58, 53,  1, 58, 46, 43,  1, 54, 43, 53, 54, 50, 43,  8,  0,  0, 13,\n",
            "        50, 50, 10,  0, 35, 43,  1, 49, 52, 53, 61,  5, 58,  6,  1, 61, 43,  1,\n",
            "        49, 52, 53, 61,  5, 58,  8,  0,  0, 18, 47, 56, 57, 58,  1, 15, 47, 58,\n",
            "        47, 64, 43, 52, 10,  0, 24, 43, 58,  1, 59, 57,  1, 49, 47, 50, 50,  1,\n",
            "        46, 47, 51,  6,  1, 39, 52, 42,  1, 61, 43,  5, 50, 50,  1, 46, 39, 60,\n",
            "        43,  1, 41, 53, 56, 52,  1, 39, 58,  1, 53, 59, 56,  1, 53, 61, 52,  1,\n",
            "        54, 56, 47, 41, 43,  8,  0, 21, 57,  5, 58,  1, 39,  1, 60, 43, 56, 42,\n",
            "        47, 41, 58, 12,  0,  0, 13, 50, 50, 10,  0, 26, 53,  1, 51, 53, 56, 43,\n",
            "         1, 58, 39, 50, 49, 47, 52, 45,  1, 53, 52,  5, 58, 11,  1, 50, 43, 58,\n",
            "         1, 47, 58,  1, 40, 43,  1, 42, 53, 52, 43, 10,  1, 39, 61, 39, 63,  6,\n",
            "         1, 39, 61, 39, 63,  2,  0,  0, 31, 43, 41, 53, 52, 42,  1, 15, 47, 58,\n",
            "        47, 64, 43, 52, 10,  0, 27, 52, 43,  1, 61, 53, 56, 42,  6,  1, 45, 53,\n",
            "        53, 42,  1, 41, 47, 58, 47, 64, 43, 52, 57,  8,  0,  0, 18, 47, 56, 57,\n",
            "        58,  1, 15, 47, 58, 47, 64, 43, 52, 10,  0, 35, 43,  1, 39, 56, 43,  1,\n",
            "        39, 41, 41, 53, 59, 52, 58, 43, 42,  1, 54, 53, 53, 56,  1, 41, 47, 58,\n",
            "        47, 64, 43, 52, 57,  6,  1, 58, 46, 43,  1, 54, 39, 58, 56, 47, 41, 47,\n",
            "        39, 52, 57,  1, 45, 53, 53, 42,  8,  0, 35, 46, 39, 58,  1, 39, 59, 58,\n",
            "        46, 53, 56, 47, 58, 63,  1, 57, 59, 56, 44, 43, 47, 58, 57,  1, 53, 52,\n",
            "         1, 61, 53, 59, 50, 42,  1, 56, 43, 50, 47, 43, 60, 43,  1, 59, 57, 10,\n",
            "         1, 47, 44,  1, 58, 46, 43, 63,  0, 61, 53, 59, 50, 42,  1, 63, 47, 43,\n",
            "        50, 42,  1, 59, 57,  1, 40, 59, 58,  1, 58, 46, 43,  1, 57, 59, 54, 43,\n",
            "        56, 44, 50, 59, 47, 58, 63,  6,  1, 61, 46, 47, 50, 43,  1, 47, 58,  1,\n",
            "        61, 43, 56, 43,  0, 61, 46, 53, 50, 43, 57, 53, 51, 43,  6,  1, 61, 43,\n",
            "         1, 51, 47, 45, 46, 58,  1, 45, 59, 43, 57, 57,  1, 58, 46, 43, 63,  1,\n",
            "        56, 43, 50, 47, 43, 60, 43, 42,  1, 59, 57,  1, 46, 59, 51, 39, 52, 43,\n",
            "        50, 63, 11,  0, 40, 59, 58,  1, 58, 46, 43, 63,  1, 58, 46, 47, 52, 49,\n",
            "         1, 61, 43,  1, 39, 56, 43,  1, 58, 53, 53,  1, 42, 43, 39, 56, 10,  1,\n",
            "        58, 46, 43,  1, 50, 43, 39, 52, 52, 43, 57, 57,  1, 58, 46, 39, 58,  0,\n",
            "        39, 44, 44, 50, 47, 41, 58, 57,  1, 59, 57,  6,  1, 58, 46, 43,  1, 53,\n",
            "        40, 48, 43, 41, 58,  1, 53, 44,  1, 53, 59, 56,  1, 51, 47, 57, 43, 56,\n",
            "        63,  6,  1, 47, 57,  1, 39, 57,  1, 39, 52,  0, 47, 52, 60, 43, 52, 58,\n",
            "        53, 56, 63,  1, 58, 53,  1, 54, 39, 56, 58, 47, 41, 59, 50, 39, 56, 47,\n",
            "        57, 43,  1, 58, 46, 43, 47, 56,  1, 39, 40, 59, 52, 42, 39, 52, 41, 43,\n",
            "        11,  1, 53, 59, 56,  0, 57, 59, 44, 44, 43, 56, 39, 52, 41, 43,  1, 47,\n",
            "        57,  1, 39,  1, 45, 39, 47, 52,  1, 58, 53,  1, 58, 46, 43, 51,  1, 24,\n",
            "        43, 58,  1, 59, 57,  1, 56, 43, 60, 43, 52, 45, 43,  1, 58, 46, 47, 57,\n",
            "         1, 61, 47, 58, 46,  0, 53, 59, 56,  1, 54, 47, 49, 43, 57,  6,  1, 43,\n",
            "        56, 43,  1, 61, 43,  1, 40, 43, 41, 53, 51, 43,  1, 56, 39, 49, 43, 57,\n",
            "        10,  1, 44, 53, 56,  1, 58, 46, 43,  1, 45, 53, 42, 57,  1, 49, 52, 53,\n",
            "        61,  1, 21,  0, 57, 54, 43, 39, 49,  1, 58, 46, 47, 57,  1, 47, 52,  1,\n",
            "        46, 59, 52, 45, 43, 56,  1, 44, 53, 56,  1, 40, 56, 43, 39, 42,  6,  1,\n",
            "        52, 53, 58,  1, 47, 52,  1, 58, 46, 47, 56, 57, 58,  1, 44, 53, 56,  1,\n",
            "        56, 43, 60, 43, 52, 45, 43,  8,  0,  0])\n"
          ]
        }
      ],
      "source": [
        "# now we are using Pytorch Library: specifically torch.tensors\n",
        "\n",
        "# Taking all the text from the text file, and wrap it's encodings into a torch.tensor\n",
        "\n",
        "import torch\n",
        "data = torch.tensor(encode(text), dtype = torch.long)\n",
        "print(data.shape, data.dtype)\n",
        "print(data[:1000]) # The thousand characters we printed earlier would have this kind of representation as tensors"
      ]
    },
    {
      "cell_type": "code",
      "execution_count": 16,
      "metadata": {
        "id": "_5gJYcraLNMz"
      },
      "outputs": [],
      "source": [
        "# Now splitting the dataset into a train and validation split\n",
        "\n",
        "n = int(0.9 * len(data))\n",
        "train_data = data[:n]\n",
        "val_data = data[n:]"
      ]
    },
    {
      "cell_type": "code",
      "source": [
        "# \"\"\"\n",
        "# Important note: We're not going to be inputting the entire text into the transformer all at once, that would be computationaly extensive\n",
        "# - So we work with chunks of the dataset.\n",
        "# - When we train, we sample random little chunks out of the dataset and train chunks at a time\n",
        "# - These chunks basically have some maximum length.\n",
        "\n",
        "# We call The maximum chunk length as block_size. (aka context size)\n",
        "# \"\"\""
      ],
      "metadata": {
        "id": "P7CIcQEeOixD",
        "outputId": "e51ade0d-0610-4e9b-a764-0dbde698262c",
        "colab": {
          "base_uri": "https://localhost:8080/",
          "height": 70
        }
      },
      "execution_count": 19,
      "outputs": [
        {
          "output_type": "execute_result",
          "data": {
            "text/plain": [
              "\"\\nImportant note: We're not going to be inputting the entire text into the transformer all at once, that would be computationaly extensive\\n- So we work with chunks of the dataset.\\n- When we train, we sample random little chunks out of the dataset and train chunks at a time\\n- These chunks basically have some maximum length.\\n\\nWe call The maximum chunk length as block_size. (aka context size)\\n\""
            ],
            "application/vnd.google.colaboratory.intrinsic+json": {
              "type": "string"
            }
          },
          "metadata": {},
          "execution_count": 19
        }
      ]
    },
    {
      "cell_type": "code",
      "execution_count": 17,
      "metadata": {
        "id": "CtZCvmfINEBa",
        "outputId": "a4848bc1-dff1-4f1a-d0d7-a61c2a30f26a",
        "colab": {
          "base_uri": "https://localhost:8080/"
        }
      },
      "outputs": [
        {
          "output_type": "execute_result",
          "data": {
            "text/plain": [
              "tensor([18, 47, 56, 57, 58,  1, 15, 47, 58])"
            ]
          },
          "metadata": {},
          "execution_count": 17
        }
      ],
      "source": [
        "block_size = 8\n",
        "train_data[:block_size+1]"
      ]
    },
    {
      "cell_type": "code",
      "source": [
        "# In the previous code block, we have a sequence of characters from the dataset.\n",
        "# What we're gonna do is that we will simultaneously train the transformer to be able to predict each character in the sequence\n",
        "# Eg in a chunk of 9 characters, there are actualyy 8 individual predictions we need to make\n",
        "\n",
        "# Eg: in a context of (18)-> 47 comes next\n",
        "#     in a context of (18, 47)-> 56 comes next"
      ],
      "metadata": {
        "id": "zQqJQHzrPnhH"
      },
      "execution_count": null,
      "outputs": []
    },
    {
      "cell_type": "code",
      "source": [
        "x = train_data[:block_size]\n",
        "y = train_data[1:block_size+1] # this is the target for the train data, which is offset by 1\n",
        "\n",
        "for t in range(block_size):\n",
        "  context = x[:t+1]\n",
        "  target = y[t]\n",
        "  print(f\"when input is {context} the target is: {target}\")"
      ],
      "metadata": {
        "id": "-NcJGgDON7lA",
        "outputId": "30ac2e21-9404-43cf-f9e9-69414251167b",
        "colab": {
          "base_uri": "https://localhost:8080/"
        }
      },
      "execution_count": 20,
      "outputs": [
        {
          "output_type": "stream",
          "name": "stdout",
          "text": [
            "when input is tensor([18]) the target is: 47\n",
            "when input is tensor([18, 47]) the target is: 56\n",
            "when input is tensor([18, 47, 56]) the target is: 57\n",
            "when input is tensor([18, 47, 56, 57]) the target is: 58\n",
            "when input is tensor([18, 47, 56, 57, 58]) the target is: 1\n",
            "when input is tensor([18, 47, 56, 57, 58,  1]) the target is: 15\n",
            "when input is tensor([18, 47, 56, 57, 58,  1, 15]) the target is: 47\n",
            "when input is tensor([18, 47, 56, 57, 58,  1, 15, 47]) the target is: 58\n"
          ]
        }
      ]
    },
    {
      "cell_type": "code",
      "source": [
        "# The above code actually looks at the time dimension of the transformer.\n",
        "# now we'd be looking at the batch dimension.\n",
        "\n",
        "# We'd be inputting many batches of multiple chunks of text that are curled and stacked up in a single tensor\n",
        "# Doing this only for efficiency just to keep out GPUs busy and enabling parallel processing\n",
        "# The chunks are processed independantly and not correlated to each other"
      ],
      "metadata": {
        "id": "sWZSggoHOObT"
      },
      "execution_count": 22,
      "outputs": []
    },
    {
      "cell_type": "code",
      "source": [
        "torch.manual_seed(1337)\n",
        "batch_size = 4 # how many independent sequences will we process in\n",
        "block_size = 8 # maximum context length for prediction\n",
        "\n",
        "def get_batch(split):\n",
        "  data = train_data if split == 'train' else val_data\n",
        "  ix = torch.randint(len(data) - block_size, (batch_size,))\n",
        "  x = torch.stack([data[i: i+block_size] for i in ix])\n",
        "  y = torch.stack([data[i+1:i+block_size+1] for i in ix])\n",
        "  return x, y\n",
        "\n",
        "\n",
        "xb, yb = get_batch('train')\n",
        "print(\"inputs: \")\n",
        "print(xb.shape)\n",
        "print(xb)\n",
        "print(f\"Targets: \\n{yb.shape} \\n{yb}\")\n",
        "\n",
        "print('___')\n",
        "\n",
        "for b in range(batch_size): #batch dimension\n",
        "  for t in range(block_size): # time dimension\n",
        "\n",
        "    context = xb[b, :t+1]\n",
        "    target = yb[b, t]\n",
        "\n",
        "    print(f\"when input is {context} the target is: {target}\")\n"
      ],
      "metadata": {
        "id": "qdb9r5pncSOe",
        "outputId": "c78e59e8-032b-4705-af15-fd1d6cfd3618",
        "colab": {
          "base_uri": "https://localhost:8080/"
        }
      },
      "execution_count": 31,
      "outputs": [
        {
          "output_type": "stream",
          "name": "stdout",
          "text": [
            "inputs: \n",
            "torch.Size([4, 8])\n",
            "tensor([[24, 43, 58,  5, 57,  1, 46, 43],\n",
            "        [44, 53, 56,  1, 58, 46, 39, 58],\n",
            "        [52, 58,  1, 58, 46, 39, 58,  1],\n",
            "        [25, 17, 27, 10,  0, 21,  1, 54]])\n",
            "Targets: \n",
            "torch.Size([4, 8]) \n",
            "tensor([[43, 58,  5, 57,  1, 46, 43, 39],\n",
            "        [53, 56,  1, 58, 46, 39, 58,  1],\n",
            "        [58,  1, 58, 46, 39, 58,  1, 46],\n",
            "        [17, 27, 10,  0, 21,  1, 54, 39]])\n",
            "___\n",
            "when input is tensor([24]) the target is: 43\n",
            "when input is tensor([24, 43]) the target is: 58\n",
            "when input is tensor([24, 43, 58]) the target is: 5\n",
            "when input is tensor([24, 43, 58,  5]) the target is: 57\n",
            "when input is tensor([24, 43, 58,  5, 57]) the target is: 1\n",
            "when input is tensor([24, 43, 58,  5, 57,  1]) the target is: 46\n",
            "when input is tensor([24, 43, 58,  5, 57,  1, 46]) the target is: 43\n",
            "when input is tensor([24, 43, 58,  5, 57,  1, 46, 43]) the target is: 39\n",
            "when input is tensor([44]) the target is: 53\n",
            "when input is tensor([44, 53]) the target is: 56\n",
            "when input is tensor([44, 53, 56]) the target is: 1\n",
            "when input is tensor([44, 53, 56,  1]) the target is: 58\n",
            "when input is tensor([44, 53, 56,  1, 58]) the target is: 46\n",
            "when input is tensor([44, 53, 56,  1, 58, 46]) the target is: 39\n",
            "when input is tensor([44, 53, 56,  1, 58, 46, 39]) the target is: 58\n",
            "when input is tensor([44, 53, 56,  1, 58, 46, 39, 58]) the target is: 1\n",
            "when input is tensor([52]) the target is: 58\n",
            "when input is tensor([52, 58]) the target is: 1\n",
            "when input is tensor([52, 58,  1]) the target is: 58\n",
            "when input is tensor([52, 58,  1, 58]) the target is: 46\n",
            "when input is tensor([52, 58,  1, 58, 46]) the target is: 39\n",
            "when input is tensor([52, 58,  1, 58, 46, 39]) the target is: 58\n",
            "when input is tensor([52, 58,  1, 58, 46, 39, 58]) the target is: 1\n",
            "when input is tensor([52, 58,  1, 58, 46, 39, 58,  1]) the target is: 46\n",
            "when input is tensor([25]) the target is: 17\n",
            "when input is tensor([25, 17]) the target is: 27\n",
            "when input is tensor([25, 17, 27]) the target is: 10\n",
            "when input is tensor([25, 17, 27, 10]) the target is: 0\n",
            "when input is tensor([25, 17, 27, 10,  0]) the target is: 21\n",
            "when input is tensor([25, 17, 27, 10,  0, 21]) the target is: 1\n",
            "when input is tensor([25, 17, 27, 10,  0, 21,  1]) the target is: 54\n",
            "when input is tensor([25, 17, 27, 10,  0, 21,  1, 54]) the target is: 39\n"
          ]
        }
      ]
    },
    {
      "cell_type": "markdown",
      "source": [
        "Now we'd be inputting the created dataset, into a model.\n",
        "\n",
        "Here we'd be using and creating the Bigram language model. It is the simplest language model for this. Check Makemore series for more detail"
      ],
      "metadata": {
        "id": "wfWCsZs-j6DU"
      }
    },
    {
      "cell_type": "code",
      "source": [
        "import torch\n",
        "import torch.nn as nn\n",
        "from torch.nn import functional as F\n",
        "\n",
        "torch.manual_seed(1337)\n",
        "\n",
        "class BigramLanguageModel(nn.Module):\n",
        "  def __init__(self, vocab_size):\n",
        "    super().__init__()\n",
        "    # each token directly reads off the logits for the next token from a lookup table\n",
        "    self.token_embedding_table = nn.Embedding(vocab_size, vocab_size)\n",
        "\n",
        "  def forward(self, idx, targets = None):\n",
        "    #  idx and targets are both (B, T) tensor of Integers\n",
        "    logits = self.token_embedding_table(idx) # (Batch, Time, Channel = vocab_size) => (4, 8, 65)\n",
        "    # Basically we are predicting everything else based on the characterstics of a single token\n",
        "\n",
        "    # Now defining the loss function: log loss of predictions and the target\n",
        "    # How well are we picking the next character based on logits\n",
        "\n",
        "    # This won't work here since pytorch cross_entropy actually expects input logits in the form of B, C, T.\n",
        "    # So we have to do it manually using logits (coz it's default set to B, T, C)\n",
        "    B, T, C = logits.shape\n",
        "    logits = logits.view(B*T, C) # 2D array\n",
        "    targets = targets.view(B*T)\n",
        "    loss = F.cross_entropy(logits, targets)\n",
        "    return logits, loss\n",
        "\n",
        "  # idx is the current context of some characters in some batch\n",
        "  def generate(self, idx, max_new_tokens):\n",
        "    \" This function continues the generation in all the batch dimensions across the time dimension\"\n",
        "    # idx is (B, T) array of indices in the current context\n",
        "    for _ in range(max_new_tokens):\n",
        "      # Get the predictions\n",
        "\n",
        "      # Here the loss is going to be ignored since we don't have any ground truth values or anything to compare and validate\n",
        "      logits, loss = self(idx)\n",
        "      logits = logits[:, -1, :] # becomes (B, C)\n",
        "\n",
        "      # Apply softmax to get probabilities\n",
        "      probs = F.softmax(logits, dim = -1) # (B, C)\n",
        "\n",
        "      # Sample from the distribution\n",
        "      idx_next = torch.multinomial(probs, num_samples = 1) # (B, 1)\n",
        "\n",
        "      # append sampled index to the running sequence\n",
        "      idx = torch.cat((idx, idx_next), dim = 1) # (B, T+1)\n",
        "\n",
        "    return idx\n",
        "\n",
        "m = BigramLanguageModel(vocab_size)\n",
        "logits, loss = m(xb, yb)\n",
        "print(logits.shape)\n",
        "print(loss)"
      ],
      "metadata": {
        "id": "xniJ--5Ej5QI",
        "outputId": "69173956-2c9e-4935-a08c-405c255387ff",
        "colab": {
          "base_uri": "https://localhost:8080/"
        }
      },
      "execution_count": 35,
      "outputs": [
        {
          "output_type": "stream",
          "name": "stdout",
          "text": [
            "torch.Size([32, 65])\n",
            "tensor(4.8786, grad_fn=<NllLossBackward0>)\n"
          ]
        }
      ]
    },
    {
      "cell_type": "code",
      "source": [],
      "metadata": {
        "id": "HdjhMk3geKel"
      },
      "execution_count": null,
      "outputs": []
    }
  ],
  "metadata": {
    "colab": {
      "gpuType": "T4",
      "provenance": [],
      "authorship_tag": "ABX9TyPxNjrmZM015ZYDllKqPEW6",
      "include_colab_link": true
    },
    "kernelspec": {
      "display_name": "Python 3",
      "name": "python3"
    },
    "language_info": {
      "name": "python"
    }
  },
  "nbformat": 4,
  "nbformat_minor": 0
}